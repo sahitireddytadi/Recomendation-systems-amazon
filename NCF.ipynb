{
 "cells": [
  {
   "cell_type": "code",
   "execution_count": 1,
   "metadata": {
    "_cell_guid": "b1076dfc-b9ad-4769-8c92-a6c4dae69d19",
    "_uuid": "8f2839f25d086af736a60e9eeb907d3b93b6e0e5"
   },
   "outputs": [
    {
     "name": "stderr",
     "output_type": "stream",
     "text": [
      "Using TensorFlow backend.\n"
     ]
    },
    {
     "name": "stdout",
     "output_type": "stream",
     "text": [
      "No GPU\n",
      "Tensorflow version: 2.1.0\n"
     ]
    }
   ],
   "source": [
    "# Some typical imports\n",
    "import numpy as np\n",
    "import pandas as pd\n",
    "import matplotlib.pyplot as plt\n",
    "import seaborn as sb\n",
    "\n",
    "import streamlit as st\n",
    "\n",
    "from collections import Counter\n",
    "import plotly.express as px\n",
    "import plotly.graph_objects as go\n",
    "from bokeh.palettes import Paired12, Category20c_20\n",
    "\n",
    "from itertools import chain\n",
    "from sklearn.preprocessing import OneHotEncoder, QuantileTransformer\n",
    "from sklearn.model_selection import train_test_split\n",
    "from numba import jit # Compile some functions when performance is critical\n",
    "import keras\n",
    "from keras.initializers import RandomNormal\n",
    "from keras.models import Model, load_model, save_model\n",
    "from keras.layers import Embedding, Input, Dense, Concatenate, Multiply, Flatten\n",
    "from keras.optimizers import Adam\n",
    "import tensorflow as tf\n",
    "if tf.test.gpu_device_name():\n",
    "    print('Default GPU Device: {}'.format(tf.test.gpu_device_name()))\n",
    "else:\n",
    "    print(\"No GPU\")\n",
    "    \n",
    "print(\"Tensorflow version: {}\".format(tf.__version__))"
   ]
  },
  {
   "cell_type": "code",
   "execution_count": 2,
   "metadata": {},
   "outputs": [
    {
     "data": {
      "text/plain": [
       "\"\\n# Snack NeuralMF Hybrid Recommender\\n### In this notebook, we implement a recommender model with the Snack foods Recommendations dataset. \\n\\nThe dataset was created with Faker and inspiration was taken from few NCF movie recoomendation datasets on how to create our dataset\\n\\n> Based on the Neural Collaborative Filtering paper: Xiangnan He, Lizi Liao, Hanwang Zhang, Liqiang Nie, Xia Hu and Tat-Seng Chua (2017). Neural Collaborative Filtering. In Proceedings of WWW '17, Perth, Australia, April 03-07, 2017.\\n\\n#### The following is a little motivation for Hybrid recommender systems.\\n\\n## Why Hybrid?\\nWell, there are two main kinds of recommender systems: Content-based and Collaborative filtering-based.\\n* Content-based recommenders suggest similar picks to a certain _item_ (an anime movie/series in our case), letting the users know about similar items to the ones they have watched/rated positively. These method typically use _item features_ together with unsupervised methods in an effort to generate a product-space and compute similarities between items. However, this method may end suggesting a limited mix of items, providing a low _surprise factor_ for the user.\\n* On the other hand, collaborative filtering recommenders rely on past users' history of watched/rated items, increasing the chances of recommending a serendipitous item to a target user. Classic methods rely solely on a user-item matrix, which maps the interactions that all users have with every item. These matrix methods are heavily memory-intensive and newer neural network-based are more common. Nonetheless, these methods could miss on similar -but typically overseen- items, in comparison to the ones watched/reviewed by the target user.\\n\\nIn order to get more robust recommendations, a hybrid model can combine both item features and user-item features.\\n\\n## And... why NeuralMF?\\nThe NeuralMF is a mix of General Matrix Factorization (GMF) and Multi Layer Perceptron (MLP) recommenders, resembling a Wide&Deep model, having higih generalization power. Plus, neural nets make easier to handle large volumes of data, and it better leverages the power of GPUs! \\n\""
      ]
     },
     "execution_count": 2,
     "metadata": {},
     "output_type": "execute_result"
    }
   ],
   "source": [
    "'''\n",
    "# Snack NeuralMF Hybrid Recommender\n",
    "### In this notebook, we implement a recommender model with the Snack foods Recommendations dataset. \n",
    "\n",
    "The dataset was created with Faker and inspiration was taken from few NCF movie recoomendation datasets on how to create our dataset\n",
    "\n",
    "> Based on the Neural Collaborative Filtering paper: Xiangnan He, Lizi Liao, Hanwang Zhang, Liqiang Nie, Xia Hu and Tat-Seng Chua (2017). Neural Collaborative Filtering. In Proceedings of WWW '17, Perth, Australia, April 03-07, 2017.\n",
    "\n",
    "#### The following is a little motivation for Hybrid recommender systems.\n",
    "\n",
    "## Why Hybrid?\n",
    "Well, there are two main kinds of recommender systems: Content-based and Collaborative filtering-based.\n",
    "* Content-based recommenders suggest similar picks to a certain _item_ (an anime movie/series in our case), letting the users know about similar items to the ones they have watched/rated positively. These method typically use _item features_ together with unsupervised methods in an effort to generate a product-space and compute similarities between items. However, this method may end suggesting a limited mix of items, providing a low _surprise factor_ for the user.\n",
    "* On the other hand, collaborative filtering recommenders rely on past users' history of watched/rated items, increasing the chances of recommending a serendipitous item to a target user. Classic methods rely solely on a user-item matrix, which maps the interactions that all users have with every item. These matrix methods are heavily memory-intensive and newer neural network-based are more common. Nonetheless, these methods could miss on similar -but typically overseen- items, in comparison to the ones watched/reviewed by the target user.\n",
    "\n",
    "In order to get more robust recommendations, a hybrid model can combine both item features and user-item features.\n",
    "\n",
    "## And... why NeuralMF?\n",
    "The NeuralMF is a mix of General Matrix Factorization (GMF) and Multi Layer Perceptron (MLP) recommenders, resembling a Wide&Deep model, having higih generalization power. Plus, neural nets make easier to handle large volumes of data, and it better leverages the power of GPUs! \n",
    "'''"
   ]
  },
  {
   "cell_type": "code",
   "execution_count": 63,
   "metadata": {},
   "outputs": [],
   "source": [
    "# from PIL import Image\n",
    "# image = Image.open('neuMF.png')\n",
    "\n",
    "# st.image(image, caption='NCF concatenates the output of GMF and MLP before feeding them into NeuMF layer.',use_column_width=True)"
   ]
  },
  {
   "cell_type": "markdown",
   "metadata": {},
   "source": [
    "## Content-based feature engineering"
   ]
  },
  {
   "cell_type": "code",
   "execution_count": 4,
   "metadata": {},
   "outputs": [],
   "source": [
    "snack_df = pd.read_csv(\"snacks_data.csv\")\n",
    "st.write(snack_df.head(10))"
   ]
  },
  {
   "cell_type": "code",
   "execution_count": 5,
   "metadata": {},
   "outputs": [
    {
     "data": {
      "text/plain": [
       "(12294, 4)"
      ]
     },
     "execution_count": 5,
     "metadata": {},
     "output_type": "execute_result"
    }
   ],
   "source": [
    "#shape of the dataset\n",
    "snack_df.shape"
   ]
  },
  {
   "cell_type": "code",
   "execution_count": 65,
   "metadata": {},
   "outputs": [
    {
     "data": {
      "text/html": [
       "<div>\n",
       "<style scoped>\n",
       "    .dataframe tbody tr th:only-of-type {\n",
       "        vertical-align: middle;\n",
       "    }\n",
       "\n",
       "    .dataframe tbody tr th {\n",
       "        vertical-align: top;\n",
       "    }\n",
       "\n",
       "    .dataframe thead th {\n",
       "        text-align: right;\n",
       "    }\n",
       "</style>\n",
       "<table border=\"1\" class=\"dataframe\">\n",
       "  <thead>\n",
       "    <tr style=\"text-align: right;\">\n",
       "      <th></th>\n",
       "      <th>food_id</th>\n",
       "    </tr>\n",
       "  </thead>\n",
       "  <tbody>\n",
       "    <tr>\n",
       "      <th>count</th>\n",
       "      <td>12294.000000</td>\n",
       "    </tr>\n",
       "    <tr>\n",
       "      <th>mean</th>\n",
       "      <td>14058.221653</td>\n",
       "    </tr>\n",
       "    <tr>\n",
       "      <th>std</th>\n",
       "      <td>11455.294701</td>\n",
       "    </tr>\n",
       "    <tr>\n",
       "      <th>min</th>\n",
       "      <td>1.000000</td>\n",
       "    </tr>\n",
       "    <tr>\n",
       "      <th>25%</th>\n",
       "      <td>3484.250000</td>\n",
       "    </tr>\n",
       "    <tr>\n",
       "      <th>50%</th>\n",
       "      <td>10260.500000</td>\n",
       "    </tr>\n",
       "    <tr>\n",
       "      <th>75%</th>\n",
       "      <td>24794.500000</td>\n",
       "    </tr>\n",
       "    <tr>\n",
       "      <th>max</th>\n",
       "      <td>34527.000000</td>\n",
       "    </tr>\n",
       "  </tbody>\n",
       "</table>\n",
       "</div>"
      ],
      "text/plain": [
       "            food_id\n",
       "count  12294.000000\n",
       "mean   14058.221653\n",
       "std    11455.294701\n",
       "min        1.000000\n",
       "25%     3484.250000\n",
       "50%    10260.500000\n",
       "75%    24794.500000\n",
       "max    34527.000000"
      ]
     },
     "execution_count": 65,
     "metadata": {},
     "output_type": "execute_result"
    }
   ],
   "source": [
    "snack_df.describe()"
   ]
  },
  {
   "cell_type": "code",
   "execution_count": 6,
   "metadata": {},
   "outputs": [
    {
     "data": {
      "text/plain": [
       "Index(['food_id', 'food_name', 'type_of_food', 'food_genre'], dtype='object')"
      ]
     },
     "execution_count": 6,
     "metadata": {},
     "output_type": "execute_result"
    }
   ],
   "source": [
    "snack_df.columns"
   ]
  },
  {
   "cell_type": "code",
   "execution_count": 66,
   "metadata": {},
   "outputs": [
    {
     "data": {
      "text/plain": [
       "12294"
      ]
     },
     "execution_count": 66,
     "metadata": {},
     "output_type": "execute_result"
    }
   ],
   "source": [
    "len(snack_df['food_id'].unique())"
   ]
  },
  {
   "cell_type": "code",
   "execution_count": 7,
   "metadata": {},
   "outputs": [
    {
     "data": {
      "text/plain": [
       "array(['Cakes', 'Bread Products', 'International ', 'Yogurt ',\n",
       "       'Cookies/Biscuits', 'Crepes', 'Jams', 'Candy', 'Chips',\n",
       "       'Chocolates', 'Protien Bars', 'Energy Bars'], dtype=object)"
      ]
     },
     "execution_count": 7,
     "metadata": {},
     "output_type": "execute_result"
    }
   ],
   "source": [
    "snack_df['type_of_food'].unique()"
   ]
  },
  {
   "cell_type": "code",
   "execution_count": 8,
   "metadata": {},
   "outputs": [],
   "source": [
    "type_initial = snack_df['type_of_food'].map(lambda x: x.split(',')).values.tolist()\n",
    "all_food_types = list(set(chain(*type_initial)))\n",
    "#all_food_types"
   ]
  },
  {
   "cell_type": "code",
   "execution_count": 9,
   "metadata": {},
   "outputs": [
    {
     "data": {
      "text/plain": [
       "array(['vegan,healthy', 'vegan', 'vegetarian,baked,sweet', 'vegetarian',\n",
       "       'vegetarian,baked', 'vegetarian,frozen food',\n",
       "       'non vegetarian,baked', 'non vegetarian',\n",
       "       'non vegetarian,baked,salty', 'non vegetarian,sweet',\n",
       "       'non vegetarian,frozen food',\n",
       "       'vegetarian,sweet,artificial flavours',\n",
       "       'vegetarian,sweet,artificial flavours,gluten free',\n",
       "       'vegetarian,baked, cheese', 'vegetarian,baked, spicy',\n",
       "       'vegetarian,baked,salty', 'vegetarian,baked,salty ',\n",
       "       'vegan, chocolate,gluten free,sweet',\n",
       "       'vegan, chocolate,gluten free,salty',\n",
       "       'vegan, dark chocolate,gluten free, bitter',\n",
       "       'vegan, chocolate,salty', 'vegan, chocolate, extra dark',\n",
       "       'vegetarian,sweet, fruit flavours,gluten free',\n",
       "       'vegetarian,sweet, fruit flavours ',\n",
       "       'vegetarian, chocolate,gluten free,sweet',\n",
       "       'vegetarian, chocolate, caramel',\n",
       "       'vegetarian, dark chocolate,gluten free, bitter',\n",
       "       'vegetarian, chocolate,salty', 'vegetarian, chocolate,sweet',\n",
       "       'vegetarian, chocolate, waffer',\n",
       "       'vegetarian, dark chocolate, bitter',\n",
       "       'vegetarian, chocolate,sweet, almonds', 'vegan,baked',\n",
       "       'vegan,baked, cheese', 'vegan,baked, spicy', 'vegan,baked,salty',\n",
       "       'vegan,baked,salty ', 'non vegetarian,baked, cheese',\n",
       "       'non vegetarian,baked, spicy', 'non vegetarian,baked,salty ',\n",
       "       'vegan,gluten free,healthy', 'non vegetarian,healthy',\n",
       "       'vegetarian,gluten free,healthy', 'vegetarian, fried ',\n",
       "       'vegetarian, fried', 'vegetarian,healthy',\n",
       "       'non vegetarian,baked,sweet', 'non vegetarian, fried ',\n",
       "       'vegetarian,artificial flavours', 'vegetarian, fruit flavours',\n",
       "       'non vegetarian,artificial flavours'], dtype=object)"
      ]
     },
     "execution_count": 9,
     "metadata": {},
     "output_type": "execute_result"
    }
   ],
   "source": [
    "snack_df['food_genre'].unique()"
   ]
  },
  {
   "cell_type": "code",
   "execution_count": 10,
   "metadata": {},
   "outputs": [],
   "source": [
    "genre_initial = snack_df['food_genre'].map(lambda x: x.replace(\" \", \"\").split(',')).values.tolist()\n",
    "all_food_genres = list(set(chain(*genre_initial)))\n",
    "#all_food_genres"
   ]
  },
  {
   "cell_type": "code",
   "execution_count": 11,
   "metadata": {},
   "outputs": [
    {
     "data": {
      "text/plain": [
       "{'almonds': 0,\n",
       " 'artificialflavours': 1,\n",
       " 'baked': 2,\n",
       " 'bitter': 3,\n",
       " 'caramel': 4,\n",
       " 'cheese': 5,\n",
       " 'chocolate': 6,\n",
       " 'darkchocolate': 7,\n",
       " 'extradark': 8,\n",
       " 'fried': 9,\n",
       " 'frozenfood': 10,\n",
       " 'fruitflavours': 11,\n",
       " 'glutenfree': 12,\n",
       " 'healthy': 13,\n",
       " 'nonvegetarian': 14,\n",
       " 'salty': 15,\n",
       " 'spicy': 16,\n",
       " 'sweet': 17,\n",
       " 'vegan': 18,\n",
       " 'vegetarian': 19,\n",
       " 'waffer': 20}"
      ]
     },
     "execution_count": 11,
     "metadata": {},
     "output_type": "execute_result"
    }
   ],
   "source": [
    "#@st.cache\n",
    "def invert_dict(d):\n",
    "    return {value: key for key, value in d.items()}\n",
    "\n",
    "all_food_genres = sorted(list(all_food_genres)) # We convert it to a list to enforce alphabetic ordering\n",
    "ngenres = len(all_food_genres)\n",
    "\n",
    "idx2genre = dict(enumerate(all_food_genres)) # Create a mapping dictionary from index to dict\n",
    "genre2idx = invert_dict(idx2genre) # Inverse dict\n",
    "\n",
    "genre2idx"
   ]
  },
  {
   "cell_type": "code",
   "execution_count": 12,
   "metadata": {},
   "outputs": [
    {
     "data": {
      "text/plain": [
       "{'Bread Products': 0,\n",
       " 'Cakes': 1,\n",
       " 'Candy': 2,\n",
       " 'Chips': 3,\n",
       " 'Chocolates': 4,\n",
       " 'Cookies/Biscuits': 5,\n",
       " 'Crepes': 6,\n",
       " 'Energy Bars': 7,\n",
       " 'International ': 8,\n",
       " 'Jams': 9,\n",
       " 'Protien Bars': 10,\n",
       " 'Yogurt ': 11}"
      ]
     },
     "execution_count": 12,
     "metadata": {},
     "output_type": "execute_result"
    }
   ],
   "source": [
    "all_food_types = sorted(list(all_food_types)) # We convert it to a list to enforce alphabetic ordering\n",
    "ntypes = len(all_food_types)\n",
    "\n",
    "idx2type = dict(enumerate(all_food_types)) # Create a mapping dictionary from index to dict\n",
    "type2idx = invert_dict(idx2type) # Inverse dict\n",
    "\n",
    "type2idx"
   ]
  },
  {
   "cell_type": "markdown",
   "metadata": {},
   "source": [
    "The content-based part of our model requires features for each anime. Therefore, we are going to include as many relevant features as possible, to not waste any information. So, we are using the anime genres and number of episodes. We dropped the title here, due to a lack of ways of handling it. Rating and members are not content-related features, since they are dynamic and bounded to users' activity. So, they are going to be leveraged through the collaborative-filtering part.\n",
    "\n",
    "Let's start by one-hot encoding food genres + type of food:"
   ]
  },
  {
   "cell_type": "code",
   "execution_count": 13,
   "metadata": {},
   "outputs": [],
   "source": [
    "# Copy the column\n",
    "snack_df['features_food_genre'] = snack_df['food_genre']\n",
    "\n",
    "# Cast None to an empty string\n",
    "snack_df['features_food_genre'] = snack_df['features_food_genre'].fillna('') \n",
    "\n",
    "# Split genres into a list of strings\n",
    "snack_df['features_food_genre'] = snack_df['features_food_genre'].map(lambda x: x.replace(\" \", \"\").split(','))\n",
    "\n",
    "#snack_df['features_food_genre']"
   ]
  },
  {
   "cell_type": "code",
   "execution_count": 14,
   "metadata": {},
   "outputs": [],
   "source": [
    "#encode genre of food\n",
    "#@st.cache\n",
    "def encode_genres(genres):\n",
    "    out = np.zeros(ngenres)\n",
    "    for genre in genres:\n",
    "        if genre == '':\n",
    "            pass\n",
    "        else:\n",
    "            out[genre2idx[genre]] = 1\n",
    "    return out.tolist()\n",
    "\n",
    "snack_df['features_food_genre'] = snack_df['features_food_genre'].map(encode_genres)\n",
    "#snack_df['features_food_genre'] "
   ]
  },
  {
   "cell_type": "code",
   "execution_count": 15,
   "metadata": {},
   "outputs": [],
   "source": [
    "# Copy the column\n",
    "snack_df['features_food_type'] = snack_df['type_of_food']\n",
    "\n",
    "# Cast None to an empty string\n",
    "snack_df['features_food_type'] = snack_df['features_food_type'].fillna('') \n",
    "\n",
    "# Split genres into a list of strings\n",
    "snack_df['features_food_type'] = snack_df['features_food_type'].map(lambda x: x.split(','))\n",
    "\n",
    "#snack_df['features_food_type']"
   ]
  },
  {
   "cell_type": "code",
   "execution_count": 16,
   "metadata": {},
   "outputs": [],
   "source": [
    "#encode type of food\n",
    "#@st.cache\n",
    "def encode_type(types):\n",
    "    out = np.zeros(ntypes)\n",
    "    for type in types:\n",
    "        if type == '':\n",
    "            pass\n",
    "        else:\n",
    "            out[type2idx[type]] = 1\n",
    "    return out.tolist()\n",
    "\n",
    "snack_df['features_food_type'] = snack_df['features_food_type'].map(encode_type)\n",
    "#snack_df['features_food_type'] "
   ]
  },
  {
   "cell_type": "code",
   "execution_count": 17,
   "metadata": {},
   "outputs": [
    {
     "data": {
      "text/plain": [
       "'\\n## Collaborative-filtering feature engineering\\n'"
      ]
     },
     "execution_count": 17,
     "metadata": {},
     "output_type": "execute_result"
    }
   ],
   "source": [
    "'''\n",
    "## Collaborative-filtering feature engineering\n",
    "'''"
   ]
  },
  {
   "cell_type": "code",
   "execution_count": 18,
   "metadata": {},
   "outputs": [],
   "source": [
    "# # Check our data structure\n",
    "rating = pd.read_csv(\"rating_snacks.csv\")\n",
    "st.write(rating.head(10))"
   ]
  },
  {
   "cell_type": "code",
   "execution_count": 19,
   "metadata": {},
   "outputs": [
    {
     "data": {
      "text/plain": [
       "(1048575, 3)"
      ]
     },
     "execution_count": 19,
     "metadata": {},
     "output_type": "execute_result"
    }
   ],
   "source": [
    "rating.shape"
   ]
  },
  {
   "cell_type": "code",
   "execution_count": 61,
   "metadata": {},
   "outputs": [
    {
     "data": {
      "text/plain": [
       "Index(['user_id', 'food_id', 'rating'], dtype='object')"
      ]
     },
     "execution_count": 61,
     "metadata": {},
     "output_type": "execute_result"
    }
   ],
   "source": [
    "rating.columns"
   ]
  },
  {
   "cell_type": "code",
   "execution_count": 67,
   "metadata": {},
   "outputs": [
    {
     "data": {
      "text/html": [
       "<div>\n",
       "<style scoped>\n",
       "    .dataframe tbody tr th:only-of-type {\n",
       "        vertical-align: middle;\n",
       "    }\n",
       "\n",
       "    .dataframe tbody tr th {\n",
       "        vertical-align: top;\n",
       "    }\n",
       "\n",
       "    .dataframe thead th {\n",
       "        text-align: right;\n",
       "    }\n",
       "</style>\n",
       "<table border=\"1\" class=\"dataframe\">\n",
       "  <thead>\n",
       "    <tr style=\"text-align: right;\">\n",
       "      <th></th>\n",
       "      <th>user_id</th>\n",
       "      <th>food_id</th>\n",
       "      <th>rating</th>\n",
       "    </tr>\n",
       "  </thead>\n",
       "  <tbody>\n",
       "    <tr>\n",
       "      <th>20694</th>\n",
       "      <td>1</td>\n",
       "      <td>3455</td>\n",
       "      <td>0.8</td>\n",
       "    </tr>\n",
       "    <tr>\n",
       "      <th>30861</th>\n",
       "      <td>1</td>\n",
       "      <td>9062</td>\n",
       "      <td>0.8</td>\n",
       "    </tr>\n",
       "    <tr>\n",
       "      <th>47570</th>\n",
       "      <td>1</td>\n",
       "      <td>30296</td>\n",
       "      <td>0.8</td>\n",
       "    </tr>\n",
       "    <tr>\n",
       "      <th>48638</th>\n",
       "      <td>1</td>\n",
       "      <td>10209</td>\n",
       "      <td>0.8</td>\n",
       "    </tr>\n",
       "    <tr>\n",
       "      <th>49994</th>\n",
       "      <td>1</td>\n",
       "      <td>11266</td>\n",
       "      <td>0.8</td>\n",
       "    </tr>\n",
       "    <tr>\n",
       "      <th>...</th>\n",
       "      <td>...</td>\n",
       "      <td>...</td>\n",
       "      <td>...</td>\n",
       "    </tr>\n",
       "    <tr>\n",
       "      <th>1008795</th>\n",
       "      <td>1</td>\n",
       "      <td>1836</td>\n",
       "      <td>0.8</td>\n",
       "    </tr>\n",
       "    <tr>\n",
       "      <th>1025254</th>\n",
       "      <td>1</td>\n",
       "      <td>9750</td>\n",
       "      <td>0.8</td>\n",
       "    </tr>\n",
       "    <tr>\n",
       "      <th>1030415</th>\n",
       "      <td>1</td>\n",
       "      <td>936</td>\n",
       "      <td>0.8</td>\n",
       "    </tr>\n",
       "    <tr>\n",
       "      <th>1044040</th>\n",
       "      <td>1</td>\n",
       "      <td>27899</td>\n",
       "      <td>0.8</td>\n",
       "    </tr>\n",
       "    <tr>\n",
       "      <th>1047962</th>\n",
       "      <td>1</td>\n",
       "      <td>25099</td>\n",
       "      <td>0.8</td>\n",
       "    </tr>\n",
       "  </tbody>\n",
       "</table>\n",
       "<p>153 rows × 3 columns</p>\n",
       "</div>"
      ],
      "text/plain": [
       "         user_id  food_id  rating\n",
       "20694          1     3455     0.8\n",
       "30861          1     9062     0.8\n",
       "47570          1    30296     0.8\n",
       "48638          1    10209     0.8\n",
       "49994          1    11266     0.8\n",
       "...          ...      ...     ...\n",
       "1008795        1     1836     0.8\n",
       "1025254        1     9750     0.8\n",
       "1030415        1      936     0.8\n",
       "1044040        1    27899     0.8\n",
       "1047962        1    25099     0.8\n",
       "\n",
       "[153 rows x 3 columns]"
      ]
     },
     "execution_count": 67,
     "metadata": {},
     "output_type": "execute_result"
    }
   ],
   "source": [
    "rating.loc[rating['user_id'] == 1]"
   ]
  },
  {
   "cell_type": "markdown",
   "metadata": {},
   "source": [
    "## We lower the number of users for quicker exploration & training, although you can comment the next line.\n",
    "### Everything fits in memory, so it won't crash!"
   ]
  },
  {
   "cell_type": "code",
   "execution_count": 22,
   "metadata": {},
   "outputs": [],
   "source": [
    "#rating = rating[rating['user_id'] <= 10000] # Can comment this line\n",
    "rating = rating[rating['food_id'].isin(snack_df['food_id'])] "
   ]
  },
  {
   "cell_type": "code",
   "execution_count": 62,
   "metadata": {},
   "outputs": [
    {
     "data": {
      "text/html": [
       "<div>\n",
       "<style scoped>\n",
       "    .dataframe tbody tr th:only-of-type {\n",
       "        vertical-align: middle;\n",
       "    }\n",
       "\n",
       "    .dataframe tbody tr th {\n",
       "        vertical-align: top;\n",
       "    }\n",
       "\n",
       "    .dataframe thead th {\n",
       "        text-align: right;\n",
       "    }\n",
       "</style>\n",
       "<table border=\"1\" class=\"dataframe\">\n",
       "  <thead>\n",
       "    <tr style=\"text-align: right;\">\n",
       "      <th></th>\n",
       "      <th>user_id</th>\n",
       "      <th>food_id</th>\n",
       "      <th>rating</th>\n",
       "    </tr>\n",
       "  </thead>\n",
       "  <tbody>\n",
       "    <tr>\n",
       "      <th>0</th>\n",
       "      <td>8177</td>\n",
       "      <td>2890</td>\n",
       "      <td>0.8</td>\n",
       "    </tr>\n",
       "    <tr>\n",
       "      <th>1</th>\n",
       "      <td>2642</td>\n",
       "      <td>5277</td>\n",
       "      <td>0.8</td>\n",
       "    </tr>\n",
       "    <tr>\n",
       "      <th>2</th>\n",
       "      <td>1729</td>\n",
       "      <td>10321</td>\n",
       "      <td>0.8</td>\n",
       "    </tr>\n",
       "    <tr>\n",
       "      <th>3</th>\n",
       "      <td>8382</td>\n",
       "      <td>228</td>\n",
       "      <td>0.7</td>\n",
       "    </tr>\n",
       "    <tr>\n",
       "      <th>4</th>\n",
       "      <td>8270</td>\n",
       "      <td>4038</td>\n",
       "      <td>0.9</td>\n",
       "    </tr>\n",
       "    <tr>\n",
       "      <th>...</th>\n",
       "      <td>...</td>\n",
       "      <td>...</td>\n",
       "      <td>...</td>\n",
       "    </tr>\n",
       "    <tr>\n",
       "      <th>1048570</th>\n",
       "      <td>2278</td>\n",
       "      <td>72</td>\n",
       "      <td>0.8</td>\n",
       "    </tr>\n",
       "    <tr>\n",
       "      <th>1048571</th>\n",
       "      <td>8039</td>\n",
       "      <td>5258</td>\n",
       "      <td>1.0</td>\n",
       "    </tr>\n",
       "    <tr>\n",
       "      <th>1048572</th>\n",
       "      <td>7502</td>\n",
       "      <td>2866</td>\n",
       "      <td>0.3</td>\n",
       "    </tr>\n",
       "    <tr>\n",
       "      <th>1048573</th>\n",
       "      <td>7802</td>\n",
       "      <td>1117</td>\n",
       "      <td>0.4</td>\n",
       "    </tr>\n",
       "    <tr>\n",
       "      <th>1048574</th>\n",
       "      <td>12</td>\n",
       "      <td>2904</td>\n",
       "      <td>1.0</td>\n",
       "    </tr>\n",
       "  </tbody>\n",
       "</table>\n",
       "<p>1048575 rows × 3 columns</p>\n",
       "</div>"
      ],
      "text/plain": [
       "         user_id  food_id  rating\n",
       "0           8177     2890     0.8\n",
       "1           2642     5277     0.8\n",
       "2           1729    10321     0.8\n",
       "3           8382      228     0.7\n",
       "4           8270     4038     0.9\n",
       "...          ...      ...     ...\n",
       "1048570     2278       72     0.8\n",
       "1048571     8039     5258     1.0\n",
       "1048572     7502     2866     0.3\n",
       "1048573     7802     1117     0.4\n",
       "1048574       12     2904     1.0\n",
       "\n",
       "[1048575 rows x 3 columns]"
      ]
     },
     "execution_count": 62,
     "metadata": {},
     "output_type": "execute_result"
    }
   ],
   "source": [
    "rating"
   ]
  },
  {
   "cell_type": "code",
   "execution_count": 23,
   "metadata": {},
   "outputs": [
    {
     "data": {
      "text/plain": [
       "\"\\n## Our goal is to reach as many users as possible; we need to impute missing reviews\\n\\nMany users don't review the snacks they've bought. We could drop these records or impute them with the median of the users' ratings, for example.\\nInspecting the distribution of ratings, we see that most of them are positive (with a median of 8). Therefore, we should consider imputing unrated snacks, since most bought snacks are positive signals.\\n\\n>An important thing to stress is that our algorithm is not trying to recommend most frequent bought snacks only, but rather a varied mix of snacks that the user might enjoy more or less. \\n\\n    *This helps to reach _hardcore bingers_ as well as casual bingers*\\n\""
      ]
     },
     "execution_count": 23,
     "metadata": {},
     "output_type": "execute_result"
    }
   ],
   "source": [
    "'''\n",
    "## Our goal is to reach as many users as possible; we need to impute missing reviews\n",
    "\n",
    "Many users don't review the snacks they've bought. We could drop these records or impute them with the median of the users' ratings, for example.\n",
    "Inspecting the distribution of ratings, we see that most of them are positive (with a median of 8). Therefore, we should consider imputing unrated snacks, since most bought snacks are positive signals.\n",
    "\n",
    ">An important thing to stress is that our algorithm is not trying to recommend most frequent bought snacks only, but rather a varied mix of snacks that the user might enjoy more or less. \n",
    "\n",
    "    *This helps to reach _hardcore bingers_ as well as casual bingers*\n",
    "'''\n",
    "    "
   ]
  },
  {
   "cell_type": "code",
   "execution_count": 24,
   "metadata": {},
   "outputs": [
    {
     "data": {
      "text/plain": [
       "<matplotlib.axes._subplots.AxesSubplot at 0x147176ad0>"
      ]
     },
     "execution_count": 24,
     "metadata": {},
     "output_type": "execute_result"
    },
    {
     "data": {
      "image/png": "[encoded data removed]",
      "text/plain": [
       "<Figure size 432x288 with 1 Axes>"
      ]
     },
     "metadata": {
      "needs_background": "light"
     },
     "output_type": "display_data"
    }
   ],
   "source": [
    "st.write(rating['rating'].replace({-1: np.nan}).dropna().describe())\n",
    "sb.distplot(rating['rating'], kde = False)"
   ]
  },
  {
   "cell_type": "markdown",
   "metadata": {},
   "source": [
    "We group by user and replace missing ratings with the median of the user.\n",
    "Many users don't leave reviews for snacks bought. To not lose this information, we impute them with the median of all users: 8"
   ]
  },
  {
   "cell_type": "code",
   "execution_count": 25,
   "metadata": {},
   "outputs": [
    {
     "data": {
      "image/png": "[encoded data removed]",
      "text/plain": [
       "<Figure size 432x288 with 1 Axes>"
      ]
     },
     "metadata": {
      "needs_background": "light"
     },
     "output_type": "display_data"
    }
   ],
   "source": [
    "user_median = rating.groupby('user_id').median()['rating']\n",
    "sb.distplot(user_median, kde = False);\n",
    "overall_median = user_median.median()\n",
    "#print(\"Median of all users' medians: \", overall_median)\n",
    "user_median = dict(user_median.replace({-1 : overall_median}))"
   ]
  },
  {
   "cell_type": "code",
   "execution_count": 26,
   "metadata": {},
   "outputs": [],
   "source": [
    "user_medians = rating['user_id'].apply(lambda x: user_median[x])\n",
    "rating['rating'] = rating['rating'].replace({-1 : np.nan}).fillna(user_medians)\n",
    "rating['rating'] = rating['rating'] / rating['rating'].max() # Divide by the max to normalize!"
   ]
  },
  {
   "cell_type": "code",
   "execution_count": 27,
   "metadata": {},
   "outputs": [
    {
     "data": {
      "image/png": "[encoded data removed]",
      "text/plain": [
       "<Figure size 432x288 with 1 Axes>"
      ]
     },
     "metadata": {
      "needs_background": "light"
     },
     "output_type": "display_data"
    }
   ],
   "source": [
    "# Resulting histogram\n",
    "sb.distplot(rating['rating'], kde = False);"
   ]
  },
  {
   "cell_type": "code",
   "execution_count": 28,
   "metadata": {},
   "outputs": [
    {
     "data": {
      "text/plain": [
       "\"\\n## Construct training and testing sets\\nOur current dataset is incomplete, since we need to generate rows including snacks that users' havent bought(_negative intances_). The following accounts for that factor. We need to emphasize that we don't want every user to have a row for every snack bought, to not fill up our entire RAM memory.\\n\\nAllow us to set that every rating will trigger 4 negative entries (we picked 4 just as a value from the original repo). To generate these records, we simply sample 4 unbought snacks for each user rating.\\n\""
      ]
     },
     "execution_count": 28,
     "metadata": {},
     "output_type": "execute_result"
    }
   ],
   "source": [
    "'''\n",
    "## Construct training and testing sets\n",
    "Our current dataset is incomplete, since we need to generate rows including snacks that users' havent bought(_negative intances_). The following accounts for that factor. We need to emphasize that we don't want every user to have a row for every snack bought, to not fill up our entire RAM memory.\n",
    "\n",
    "Allow us to set that every rating will trigger 4 negative entries (we picked 4 just as a value from the original repo). To generate these records, we simply sample 4 unbought snacks for each user rating.\n",
    "'''\n"
   ]
  },
  {
   "cell_type": "code",
   "execution_count": 29,
   "metadata": {},
   "outputs": [],
   "source": [
    "num_neg = 4\n",
    "user2n_snack = dict(rating.groupby('user_id').count()['food_id'])"
   ]
  },
  {
   "cell_type": "code",
   "execution_count": 30,
   "metadata": {},
   "outputs": [],
   "source": [
    "#unique user ids\n",
    "all_users = np.sort(rating['user_id'].unique())\n",
    "#unique food ids\n",
    "all_snacks = np.sort(rating['food_id'].unique())\n",
    "n_snacks = len(all_snacks)\n",
    "n_users = len(all_users)\n",
    "\n",
    "#@st.cache\n",
    "@jit\n",
    "def choice_w_exclusions(array, exclude, samples):\n",
    "    max_samples = len(array)-len(exclude)\n",
    "    final_samples = min(samples, max_samples)\n",
    "    possible = np.array(list(set(array) - set(exclude)))\n",
    "    np.random.seed(0)\n",
    "    return np.random.choice(possible, size = final_samples, replace = False)\n",
    "#@st.cache\n",
    "@jit\n",
    "def flat(l):\n",
    "    return [item for sublist in l for item in sublist]"
   ]
  },
  {
   "cell_type": "code",
   "execution_count": 31,
   "metadata": {},
   "outputs": [],
   "source": [
    "#all_users"
   ]
  },
  {
   "cell_type": "code",
   "execution_count": 32,
   "metadata": {},
   "outputs": [],
   "source": [
    "#all_snacks"
   ]
  },
  {
   "cell_type": "code",
   "execution_count": 32,
   "metadata": {},
   "outputs": [
    {
     "data": {
      "text/plain": [
       "8347"
      ]
     },
     "execution_count": 32,
     "metadata": {},
     "output_type": "execute_result"
    }
   ],
   "source": [
    "n_snacks"
   ]
  },
  {
   "cell_type": "code",
   "execution_count": 33,
   "metadata": {},
   "outputs": [
    {
     "data": {
      "text/plain": [
       "10093"
      ]
     },
     "execution_count": 33,
     "metadata": {},
     "output_type": "execute_result"
    }
   ],
   "source": [
    "n_users"
   ]
  },
  {
   "cell_type": "markdown",
   "metadata": {},
   "source": [
    "### Sample negative entries"
   ]
  },
  {
   "cell_type": "code",
   "execution_count": 34,
   "metadata": {},
   "outputs": [
    {
     "name": "stderr",
     "output_type": "stream",
     "text": [
      "/Users/nikitaravindran/anaconda3/lib/python3.7/site-packages/numba/ir_utils.py:2041: NumbaPendingDeprecationWarning:\n",
      "\n",
      "\n",
      "Encountered the use of a type that is scheduled for deprecation: type 'reflected list' found for argument 'exclude' of function 'choice_w_exclusions'.\n",
      "\n",
      "For more information visit http://numba.pydata.org/numba-doc/latest/reference/deprecation.html#deprecation-of-reflection-for-list-and-set-types\n",
      "\n",
      "File \"<ipython-input-30-44cfa4e7eed1>\", line 10:\n",
      "@jit\n",
      "def choice_w_exclusions(array, exclude, samples):\n",
      "^\n",
      "\n",
      "\n",
      "/Users/nikitaravindran/anaconda3/lib/python3.7/site-packages/numba/ir_utils.py:2041: NumbaPendingDeprecationWarning:\n",
      "\n",
      "\n",
      "Encountered the use of a type that is scheduled for deprecation: type 'reflected list' found for argument 'l' of function 'flat'.\n",
      "\n",
      "For more information visit http://numba.pydata.org/numba-doc/latest/reference/deprecation.html#deprecation-of-reflection-for-list-and-set-types\n",
      "\n",
      "File \"<ipython-input-30-44cfa4e7eed1>\", line 18:\n",
      "@jit\n",
      "def flat(l):\n",
      "^\n",
      "\n",
      "\n",
      "<ipython-input-30-44cfa4e7eed1>:17: NumbaWarning:\n",
      "\n",
      "\n",
      "Compilation is falling back to object mode WITH looplifting enabled because Function flat failed at nopython mode lowering due to: cannot reflect element of reflected container: reflected list(reflected list(int64))\n",
      "\n",
      "\n",
      "finding looplift candidates\n",
      "/Users/nikitaravindran/anaconda3/lib/python3.7/site-packages/numba/object_mode_passes.py:178: NumbaWarning:\n",
      "\n",
      "Function \"flat\" was compiled in object mode without forceobj=True.\n",
      "\n",
      "File \"<ipython-input-30-44cfa4e7eed1>\", line 18:\n",
      "@jit\n",
      "def flat(l):\n",
      "^\n",
      "\n",
      "\n",
      "/Users/nikitaravindran/anaconda3/lib/python3.7/site-packages/numba/object_mode_passes.py:188: NumbaDeprecationWarning:\n",
      "\n",
      "\n",
      "Fall-back from the nopython compilation path to the object mode compilation path has been detected, this is deprecated behaviour.\n",
      "\n",
      "For more information visit http://numba.pydata.org/numba-doc/latest/reference/deprecation.html#deprecation-of-object-mode-fall-back-behaviour-when-using-jit\n",
      "\n",
      "File \"<ipython-input-30-44cfa4e7eed1>\", line 18:\n",
      "@jit\n",
      "def flat(l):\n",
      "^\n",
      "\n",
      "\n",
      "/Users/nikitaravindran/anaconda3/lib/python3.7/site-packages/numba/ir_utils.py:2041: NumbaPendingDeprecationWarning:\n",
      "\n",
      "\n",
      "Encountered the use of a type that is scheduled for deprecation: type 'reflected list' found for argument 'l' of function 'flat'.\n",
      "\n",
      "For more information visit http://numba.pydata.org/numba-doc/latest/reference/deprecation.html#deprecation-of-reflection-for-list-and-set-types\n",
      "\n",
      "File \"<ipython-input-30-44cfa4e7eed1>\", line 18:\n",
      "@jit\n",
      "def flat(l):\n",
      "^\n",
      "\n",
      "\n",
      "/Users/nikitaravindran/anaconda3/lib/python3.7/site-packages/numba/ir_utils.py:2041: NumbaPendingDeprecationWarning:\n",
      "\n",
      "\n",
      "Encountered the use of a type that is scheduled for deprecation: type 'reflected list' found for argument 'l' of function 'flat'.\n",
      "\n",
      "For more information visit http://numba.pydata.org/numba-doc/latest/reference/deprecation.html#deprecation-of-reflection-for-list-and-set-types\n",
      "\n",
      "File \"<ipython-input-30-44cfa4e7eed1>\", line 18:\n",
      "@jit\n",
      "def flat(l):\n",
      "^\n",
      "\n",
      "\n",
      "<ipython-input-30-44cfa4e7eed1>:17: NumbaWarning:\n",
      "\n",
      "\n",
      "Compilation is falling back to object mode WITH looplifting enabled because Function flat failed at nopython mode lowering due to: cannot reflect element of reflected container: reflected list(reflected list(float64))\n",
      "\n",
      "\n",
      "finding looplift candidates\n",
      "/Users/nikitaravindran/anaconda3/lib/python3.7/site-packages/numba/object_mode_passes.py:178: NumbaWarning:\n",
      "\n",
      "Function \"flat\" was compiled in object mode without forceobj=True.\n",
      "\n",
      "File \"<ipython-input-30-44cfa4e7eed1>\", line 18:\n",
      "@jit\n",
      "def flat(l):\n",
      "^\n",
      "\n",
      "\n",
      "/Users/nikitaravindran/anaconda3/lib/python3.7/site-packages/numba/object_mode_passes.py:188: NumbaDeprecationWarning:\n",
      "\n",
      "\n",
      "Fall-back from the nopython compilation path to the object mode compilation path has been detected, this is deprecated behaviour.\n",
      "\n",
      "For more information visit http://numba.pydata.org/numba-doc/latest/reference/deprecation.html#deprecation-of-object-mode-fall-back-behaviour-when-using-jit\n",
      "\n",
      "File \"<ipython-input-30-44cfa4e7eed1>\", line 18:\n",
      "@jit\n",
      "def flat(l):\n",
      "^\n",
      "\n",
      "\n"
     ]
    }
   ],
   "source": [
    "#%%time\n",
    "#This part takes about 10 minutes with a full dataset. Time for coffee!\n",
    "neg_user_id = []\n",
    "neg_snack_id = []\n",
    "neg_rating = []\n",
    "\n",
    "for user in all_users:\n",
    "    #exclude the food ids for the specific user id\n",
    "    exclude = list(rating[rating['user_id'] == user]['food_id'])\n",
    "    sampled_snack_id = choice_w_exclusions(all_snacks, exclude, len(exclude) * num_neg)\n",
    "    \n",
    "    neg_user_id.append([user] * len(sampled_snack_id))\n",
    "    neg_snack_id.append(sampled_snack_id)\n",
    "    neg_rating.append([0.] * len(sampled_snack_id))\n",
    "    \n",
    "neg_user_id = flat(neg_user_id)\n",
    "neg_snack_id = flat(neg_snack_id)\n",
    "neg_rating = flat(neg_rating)"
   ]
  },
  {
   "cell_type": "code",
   "execution_count": 35,
   "metadata": {},
   "outputs": [],
   "source": [
    "negatives = pd.DataFrame({'user_id': neg_user_id,\n",
    "                          'food_id': neg_snack_id,\n",
    "                          'rating': neg_rating})\n",
    "data = pd.concat([rating, negatives], ignore_index = True)\n",
    "#st.write(len(data))"
   ]
  },
  {
   "cell_type": "code",
   "execution_count": 36,
   "metadata": {},
   "outputs": [
    {
     "data": {
      "text/plain": [
       "(5238631, 3)"
      ]
     },
     "execution_count": 36,
     "metadata": {},
     "output_type": "execute_result"
    }
   ],
   "source": [
    "data.shape"
   ]
  },
  {
   "cell_type": "code",
   "execution_count": 37,
   "metadata": {},
   "outputs": [
    {
     "data": {
      "text/plain": [
       "\"\\n### Join both tables' information and drop unindexed snacks\\n\""
      ]
     },
     "execution_count": 37,
     "metadata": {},
     "output_type": "execute_result"
    }
   ],
   "source": [
    "'''\n",
    "### Join both tables' information and drop unindexed snacks\n",
    "'''"
   ]
  },
  {
   "cell_type": "code",
   "execution_count": 38,
   "metadata": {},
   "outputs": [],
   "source": [
    "snack_df['features'] = snack_df['features_food_genre'] + snack_df['features_food_type']\n",
    "snack_df['features'] = snack_df['features'].apply(np.array)\n",
    "\n",
    "n_feats = len(snack_df['features'].iloc[0])\n",
    "\n",
    "data = data.join(snack_df['features'], on = 'food_id').dropna()\n",
    "#st.write(data.head())"
   ]
  },
  {
   "cell_type": "code",
   "execution_count": 68,
   "metadata": {},
   "outputs": [
    {
     "data": {
      "text/html": [
       "<div>\n",
       "<style scoped>\n",
       "    .dataframe tbody tr th:only-of-type {\n",
       "        vertical-align: middle;\n",
       "    }\n",
       "\n",
       "    .dataframe tbody tr th {\n",
       "        vertical-align: top;\n",
       "    }\n",
       "\n",
       "    .dataframe thead th {\n",
       "        text-align: right;\n",
       "    }\n",
       "</style>\n",
       "<table border=\"1\" class=\"dataframe\">\n",
       "  <thead>\n",
       "    <tr style=\"text-align: right;\">\n",
       "      <th></th>\n",
       "      <th>user_id</th>\n",
       "      <th>food_id</th>\n",
       "      <th>rating</th>\n",
       "      <th>features</th>\n",
       "      <th>item_id</th>\n",
       "    </tr>\n",
       "  </thead>\n",
       "  <tbody>\n",
       "    <tr>\n",
       "      <th>0</th>\n",
       "      <td>8177</td>\n",
       "      <td>2890</td>\n",
       "      <td>0.8</td>\n",
       "      <td>[0.0, 1.0, 0.0, 0.0, 0.0, 0.0, 0.0, 0.0, 0.0, ...</td>\n",
       "      <td>2574</td>\n",
       "    </tr>\n",
       "    <tr>\n",
       "      <th>1</th>\n",
       "      <td>2642</td>\n",
       "      <td>5277</td>\n",
       "      <td>0.8</td>\n",
       "      <td>[0.0, 0.0, 1.0, 0.0, 0.0, 0.0, 0.0, 0.0, 0.0, ...</td>\n",
       "      <td>3872</td>\n",
       "    </tr>\n",
       "    <tr>\n",
       "      <th>2</th>\n",
       "      <td>1729</td>\n",
       "      <td>10321</td>\n",
       "      <td>0.8</td>\n",
       "      <td>[0.0, 0.0, 0.0, 0.0, 0.0, 0.0, 0.0, 0.0, 0.0, ...</td>\n",
       "      <td>5394</td>\n",
       "    </tr>\n",
       "    <tr>\n",
       "      <th>3</th>\n",
       "      <td>8382</td>\n",
       "      <td>228</td>\n",
       "      <td>0.7</td>\n",
       "      <td>[0.0, 0.0, 0.0, 0.0, 0.0, 0.0, 0.0, 0.0, 0.0, ...</td>\n",
       "      <td>203</td>\n",
       "    </tr>\n",
       "    <tr>\n",
       "      <th>4</th>\n",
       "      <td>8270</td>\n",
       "      <td>4038</td>\n",
       "      <td>0.9</td>\n",
       "      <td>[0.0, 0.0, 0.0, 0.0, 0.0, 0.0, 0.0, 0.0, 0.0, ...</td>\n",
       "      <td>3325</td>\n",
       "    </tr>\n",
       "    <tr>\n",
       "      <th>...</th>\n",
       "      <td>...</td>\n",
       "      <td>...</td>\n",
       "      <td>...</td>\n",
       "      <td>...</td>\n",
       "      <td>...</td>\n",
       "    </tr>\n",
       "    <tr>\n",
       "      <th>5238624</th>\n",
       "      <td>10093</td>\n",
       "      <td>1609</td>\n",
       "      <td>0.0</td>\n",
       "      <td>[0.0, 0.0, 1.0, 0.0, 0.0, 0.0, 0.0, 0.0, 0.0, ...</td>\n",
       "      <td>1453</td>\n",
       "    </tr>\n",
       "    <tr>\n",
       "      <th>5238626</th>\n",
       "      <td>10093</td>\n",
       "      <td>8331</td>\n",
       "      <td>0.0</td>\n",
       "      <td>[0.0, 0.0, 0.0, 0.0, 0.0, 0.0, 0.0, 0.0, 0.0, ...</td>\n",
       "      <td>4856</td>\n",
       "    </tr>\n",
       "    <tr>\n",
       "      <th>5238627</th>\n",
       "      <td>10093</td>\n",
       "      <td>4197</td>\n",
       "      <td>0.0</td>\n",
       "      <td>[0.0, 0.0, 1.0, 0.0, 0.0, 0.0, 0.0, 0.0, 0.0, ...</td>\n",
       "      <td>3412</td>\n",
       "    </tr>\n",
       "    <tr>\n",
       "      <th>5238628</th>\n",
       "      <td>10093</td>\n",
       "      <td>12145</td>\n",
       "      <td>0.0</td>\n",
       "      <td>[0.0, 0.0, 0.0, 0.0, 0.0, 0.0, 1.0, 0.0, 0.0, ...</td>\n",
       "      <td>5820</td>\n",
       "    </tr>\n",
       "    <tr>\n",
       "      <th>5238629</th>\n",
       "      <td>10093</td>\n",
       "      <td>1128</td>\n",
       "      <td>0.0</td>\n",
       "      <td>[0.0, 1.0, 0.0, 0.0, 0.0, 0.0, 0.0, 0.0, 0.0, ...</td>\n",
       "      <td>1020</td>\n",
       "    </tr>\n",
       "  </tbody>\n",
       "</table>\n",
       "<p>3650456 rows × 5 columns</p>\n",
       "</div>"
      ],
      "text/plain": [
       "         user_id  food_id  rating  \\\n",
       "0           8177     2890     0.8   \n",
       "1           2642     5277     0.8   \n",
       "2           1729    10321     0.8   \n",
       "3           8382      228     0.7   \n",
       "4           8270     4038     0.9   \n",
       "...          ...      ...     ...   \n",
       "5238624    10093     1609     0.0   \n",
       "5238626    10093     8331     0.0   \n",
       "5238627    10093     4197     0.0   \n",
       "5238628    10093    12145     0.0   \n",
       "5238629    10093     1128     0.0   \n",
       "\n",
       "                                                  features  item_id  \n",
       "0        [0.0, 1.0, 0.0, 0.0, 0.0, 0.0, 0.0, 0.0, 0.0, ...     2574  \n",
       "1        [0.0, 0.0, 1.0, 0.0, 0.0, 0.0, 0.0, 0.0, 0.0, ...     3872  \n",
       "2        [0.0, 0.0, 0.0, 0.0, 0.0, 0.0, 0.0, 0.0, 0.0, ...     5394  \n",
       "3        [0.0, 0.0, 0.0, 0.0, 0.0, 0.0, 0.0, 0.0, 0.0, ...      203  \n",
       "4        [0.0, 0.0, 0.0, 0.0, 0.0, 0.0, 0.0, 0.0, 0.0, ...     3325  \n",
       "...                                                    ...      ...  \n",
       "5238624  [0.0, 0.0, 1.0, 0.0, 0.0, 0.0, 0.0, 0.0, 0.0, ...     1453  \n",
       "5238626  [0.0, 0.0, 0.0, 0.0, 0.0, 0.0, 0.0, 0.0, 0.0, ...     4856  \n",
       "5238627  [0.0, 0.0, 1.0, 0.0, 0.0, 0.0, 0.0, 0.0, 0.0, ...     3412  \n",
       "5238628  [0.0, 0.0, 0.0, 0.0, 0.0, 0.0, 1.0, 0.0, 0.0, ...     5820  \n",
       "5238629  [0.0, 1.0, 0.0, 0.0, 0.0, 0.0, 0.0, 0.0, 0.0, ...     1020  \n",
       "\n",
       "[3650456 rows x 5 columns]"
      ]
     },
     "execution_count": 68,
     "metadata": {},
     "output_type": "execute_result"
    }
   ],
   "source": [
    "data"
   ]
  },
  {
   "cell_type": "code",
   "execution_count": 39,
   "metadata": {},
   "outputs": [
    {
     "data": {
      "text/plain": [
       "33"
      ]
     },
     "execution_count": 39,
     "metadata": {},
     "output_type": "execute_result"
    }
   ],
   "source": [
    "n_feats"
   ]
  },
  {
   "cell_type": "code",
   "execution_count": 41,
   "metadata": {},
   "outputs": [
    {
     "data": {
      "text/plain": [
       "\"\\nEmbeddings need a compressed index representation of snacks: Let's make a quick mapping\\n\""
      ]
     },
     "execution_count": 41,
     "metadata": {},
     "output_type": "execute_result"
    }
   ],
   "source": [
    "'''\n",
    "Embeddings need a compressed index representation of snacks: Let's make a quick mapping\n",
    "'''"
   ]
  },
  {
   "cell_type": "code",
   "execution_count": 40,
   "metadata": {},
   "outputs": [],
   "source": [
    "#creating a dictionary for linking snack id to item id\n",
    "snack2item_dict = dict(zip(np.sort(all_snacks), list(range(n_snacks))))\n",
    "item2snack_dict = {v: k for k, v in snack2item_dict.items()}\n",
    "\n",
    "def snack2item(s_id):\n",
    "    return snack2item_dict[s_id]\n",
    "\n",
    "def item2snack(i_id):\n",
    "    return item2snack_dict[i_id]\n",
    "                       \n",
    "data['item_id'] = data['food_id'].apply(snack2item)"
   ]
  },
  {
   "cell_type": "code",
   "execution_count": 43,
   "metadata": {},
   "outputs": [],
   "source": [
    "st.write(data.head())"
   ]
  },
  {
   "cell_type": "code",
   "execution_count": 41,
   "metadata": {},
   "outputs": [
    {
     "data": {
      "text/plain": [
       "(3650456, 5)"
      ]
     },
     "execution_count": 41,
     "metadata": {},
     "output_type": "execute_result"
    }
   ],
   "source": [
    "data.shape"
   ]
  },
  {
   "cell_type": "code",
   "execution_count": 45,
   "metadata": {},
   "outputs": [
    {
     "data": {
      "text/plain": [
       "\"\\n### Split into a 90/10 train/test scheme.\\nNote: We can't separate users between train and test sets (like train users versus test users), since we need to feed all users and snacks data to the embeddings.\\n\""
      ]
     },
     "execution_count": 45,
     "metadata": {},
     "output_type": "execute_result"
    }
   ],
   "source": [
    "'''\n",
    "### Split into a 90/10 train/test scheme.\n",
    "Note: We can't separate users between train and test sets (like train users versus test users), since we need to feed all users and snacks data to the embeddings.\n",
    "'''"
   ]
  },
  {
   "cell_type": "code",
   "execution_count": 42,
   "metadata": {},
   "outputs": [],
   "source": [
    "x0 = data['user_id'].to_numpy()\n",
    "x1 =data['item_id'].to_numpy()\n",
    "x2 = np.stack(data['features'].to_numpy())\n",
    "y = data['rating'].to_numpy()\n",
    "\n",
    "(x0_train, x0_val,\n",
    " x1_train, x1_val,\n",
    " x2_train, x2_val,\n",
    " y_train, y_val) = train_test_split(x0, x1, x2, y,\n",
    "                                    test_size = 0.1,\n",
    "                                    random_state = 42)\n",
    "\n",
    "\n",
    "x_train = [x0_train, x1_train, x2_train]\n",
    "x_val = [x0_val, x1_val, x2_val]"
   ]
  },
  {
   "cell_type": "code",
   "execution_count": 50,
   "metadata": {},
   "outputs": [
    {
     "data": {
      "text/plain": [
       "(3650456,)"
      ]
     },
     "execution_count": 50,
     "metadata": {},
     "output_type": "execute_result"
    }
   ],
   "source": [
    "x0.shape"
   ]
  },
  {
   "cell_type": "code",
   "execution_count": 51,
   "metadata": {},
   "outputs": [
    {
     "data": {
      "text/plain": [
       "(3650456,)"
      ]
     },
     "execution_count": 51,
     "metadata": {},
     "output_type": "execute_result"
    }
   ],
   "source": [
    "x1.shape"
   ]
  },
  {
   "cell_type": "code",
   "execution_count": 52,
   "metadata": {},
   "outputs": [
    {
     "data": {
      "text/plain": [
       "(3650456, 33)"
      ]
     },
     "execution_count": 52,
     "metadata": {},
     "output_type": "execute_result"
    }
   ],
   "source": [
    "x2.shape"
   ]
  },
  {
   "cell_type": "code",
   "execution_count": 53,
   "metadata": {},
   "outputs": [
    {
     "data": {
      "text/plain": [
       "(3650456,)"
      ]
     },
     "execution_count": 53,
     "metadata": {},
     "output_type": "execute_result"
    }
   ],
   "source": [
    "y.shape"
   ]
  },
  {
   "cell_type": "code",
   "execution_count": 57,
   "metadata": {},
   "outputs": [
    {
     "data": {
      "text/plain": [
       "(365046, 33)"
      ]
     },
     "execution_count": 57,
     "metadata": {},
     "output_type": "execute_result"
    }
   ],
   "source": [
    "x2_val.shape"
   ]
  },
  {
   "cell_type": "code",
   "execution_count": 60,
   "metadata": {},
   "outputs": [
    {
     "data": {
      "text/plain": [
       "(3285410,)"
      ]
     },
     "execution_count": 60,
     "metadata": {},
     "output_type": "execute_result"
    }
   ],
   "source": [
    "y_train.shape"
   ]
  },
  {
   "cell_type": "code",
   "execution_count": 55,
   "metadata": {},
   "outputs": [
    {
     "data": {
      "text/plain": [
       "(365046,)"
      ]
     },
     "execution_count": 55,
     "metadata": {},
     "output_type": "execute_result"
    }
   ],
   "source": [
    "y_val.shape"
   ]
  },
  {
   "cell_type": "code",
   "execution_count": 58,
   "metadata": {},
   "outputs": [
    {
     "data": {
      "text/plain": [
       "[array([2605, 4471, 5720, ..., 5341, 6822, 5311]),\n",
       " array([3437, 2585, 4469, ...,    6, 1801, 4427]),\n",
       " array([[0., 0., 1., ..., 0., 0., 0.],\n",
       "        [0., 0., 0., ..., 0., 0., 0.],\n",
       "        [1., 0., 0., ..., 0., 0., 0.],\n",
       "        ...,\n",
       "        [0., 0., 0., ..., 0., 0., 0.],\n",
       "        [0., 0., 1., ..., 0., 0., 0.],\n",
       "        [0., 0., 1., ..., 0., 0., 0.]])]"
      ]
     },
     "execution_count": 58,
     "metadata": {},
     "output_type": "execute_result"
    }
   ],
   "source": [
    "x_train"
   ]
  },
  {
   "cell_type": "code",
   "execution_count": 59,
   "metadata": {},
   "outputs": [
    {
     "data": {
      "text/plain": [
       "[array([5423, 9471, 8155, ..., 3204, 1020,  232]),\n",
       " array([2657,  808,  211, ..., 5768, 2658, 3214]),\n",
       " array([[0., 0., 1., ..., 0., 0., 0.],\n",
       "        [0., 0., 1., ..., 0., 0., 0.],\n",
       "        [0., 0., 0., ..., 0., 0., 0.],\n",
       "        ...,\n",
       "        [0., 0., 0., ..., 0., 0., 0.],\n",
       "        [0., 0., 1., ..., 0., 0., 0.],\n",
       "        [0., 0., 0., ..., 0., 1., 0.]])]"
      ]
     },
     "execution_count": 59,
     "metadata": {},
     "output_type": "execute_result"
    }
   ],
   "source": [
    "x_val"
   ]
  },
  {
   "cell_type": "code",
   "execution_count": 43,
   "metadata": {},
   "outputs": [
    {
     "data": {
      "text/plain": [
       "'\\n## Model implementation\\n> [Heavily based on the [Neural Collaborative Filtering paper repo](https://github.com/hexiangnan/neural_collaborative_filtering)]\\n\\nHowever, our model improved the reference model by including information of snacks features!\\n'"
      ]
     },
     "execution_count": 43,
     "metadata": {},
     "output_type": "execute_result"
    }
   ],
   "source": [
    "'''\n",
    "## Model implementation\n",
    "> [Heavily based on the [Neural Collaborative Filtering paper repo](https://github.com/hexiangnan/neural_collaborative_filtering)]\n",
    "\n",
    "However, our model improved the reference model by including information of snacks features!\n",
    "'''"
   ]
  },
  {
   "cell_type": "code",
   "execution_count": 44,
   "metadata": {},
   "outputs": [],
   "source": [
    "#@st.cache\n",
    "def get_model(num_users, num_items, num_item_feats, mf_dim, layers = [64, 32, 16, 8]):\n",
    "    user_input = Input(shape=(1,), dtype='int32', name = 'user_input')\n",
    "    item_input = Input(shape=(1,), dtype='int32', name = 'item_input')\n",
    "    feats_input = Input(shape=(num_item_feats,), dtype='float32', name = 'feats_input')\n",
    "\n",
    "    # User&Item Embeddings for Matrix Factorization\n",
    "    MF_Embedding_User = Embedding(input_dim = num_users+1, output_dim = mf_dim,\n",
    "                                  name = 'user_embedding',\n",
    "                                  embeddings_initializer = RandomNormal(stddev=0.001),\n",
    "                                  input_length = 1)\n",
    "    MF_Embedding_Item = Embedding(input_dim = num_items+1, output_dim = mf_dim,\n",
    "                                  name = 'item_embedding',\n",
    "                                  embeddings_initializer = RandomNormal(stddev=0.001),\n",
    "                                  input_length = 1)\n",
    "    \n",
    "    # User&Item Embeddings for MLP part\n",
    "    MLP_Embedding_User = Embedding(input_dim = num_users+1, output_dim = int(layers[0] / 2),\n",
    "                                   name = 'mlp_embedding_user',\n",
    "                                   embeddings_initializer = RandomNormal(stddev=0.001),\n",
    "                                   input_length = 1)\n",
    "    MLP_Embedding_Item = Embedding(input_dim = num_items+1, output_dim = int(layers[0] / 2),\n",
    "                                   name = 'mlp_embedding_item',\n",
    "                                   embeddings_initializer = RandomNormal(stddev=0.001),\n",
    "                                   input_length = 1) \n",
    "    \n",
    "    mf_user_latent = Flatten()(MF_Embedding_User(user_input))\n",
    "    mf_item_latent = Flatten()(MF_Embedding_Item(item_input))\n",
    "    mf_vector = Multiply()([mf_user_latent, mf_item_latent])\n",
    "\n",
    "    # MLP part with item features\n",
    "    mlp_user_latent = Flatten()(MLP_Embedding_User(user_input))\n",
    "    mlp_item_latent = Flatten()(MLP_Embedding_Item(item_input))\n",
    "    \n",
    "    mlp_vector = Concatenate()([mlp_user_latent, mlp_item_latent, feats_input])\n",
    "    for l in layers:\n",
    "        layer = Dense(l, activation='relu')\n",
    "        mlp_vector = layer(mlp_vector)\n",
    "\n",
    "    # Concatenate MF and MLP parts\n",
    "    predict_vector = Concatenate()([mf_vector, mlp_vector])\n",
    "    \n",
    "    # Final prediction layer\n",
    "    prediction = Dense(1, activation = 'sigmoid',\n",
    "                       kernel_initializer = 'lecun_uniform',\n",
    "                       name = 'prediction')(predict_vector)\n",
    "    \n",
    "    model = Model(input = [user_input, item_input, feats_input], output = prediction)\n",
    "    return model"
   ]
  },
  {
   "cell_type": "code",
   "execution_count": 45,
   "metadata": {},
   "outputs": [
    {
     "data": {
      "text/plain": [
       "'\\nSet hyperparameters, which are very similar to the default values from the NeuralMF model repo, except for the number of epochs and layers.\\n'"
      ]
     },
     "execution_count": 45,
     "metadata": {},
     "output_type": "execute_result"
    }
   ],
   "source": [
    "'''\n",
    "Set hyperparameters, which are very similar to the default values from the NeuralMF model repo, except for the number of epochs and layers.\n",
    "'''"
   ]
  },
  {
   "cell_type": "code",
   "execution_count": 46,
   "metadata": {},
   "outputs": [],
   "source": [
    "learning_rate = 0.001\n",
    "batch_size = 256\n",
    "n_epochs = 3\n",
    "mf_dim = 15\n",
    "layers = [128,64, 32, 16, 8]"
   ]
  },
  {
   "cell_type": "code",
   "execution_count": 47,
   "metadata": {},
   "outputs": [
    {
     "data": {
      "text/plain": [
       "'\\nCreate model and train!\\n'"
      ]
     },
     "execution_count": 47,
     "metadata": {},
     "output_type": "execute_result"
    }
   ],
   "source": [
    "'''\n",
    "Create model and train!\n",
    "'''"
   ]
  },
  {
   "cell_type": "code",
   "execution_count": 48,
   "metadata": {},
   "outputs": [
    {
     "name": "stderr",
     "output_type": "stream",
     "text": [
      "/Users/nikitaravindran/anaconda3/lib/python3.7/site-packages/ipykernel_launcher.py:48: UserWarning:\n",
      "\n",
      "Update your `Model` call to the Keras 2 API: `Model(inputs=[<tf.Tenso..., outputs=Tensor(\"pr...)`\n",
      "\n"
     ]
    }
   ],
   "source": [
    "model = get_model(n_users, n_snacks, n_feats, mf_dim, layers)\n",
    "model.compile(optimizer = Adam(lr = learning_rate), loss = 'mean_squared_logarithmic_error')"
   ]
  },
  {
   "cell_type": "code",
   "execution_count": 49,
   "metadata": {},
   "outputs": [
    {
     "name": "stderr",
     "output_type": "stream",
     "text": [
      "/Users/nikitaravindran/anaconda3/lib/python3.7/site-packages/tensorflow_core/python/framework/indexed_slices.py:433: UserWarning:\n",
      "\n",
      "Converting sparse IndexedSlices to a dense Tensor of unknown shape. This may consume a large amount of memory.\n",
      "\n"
     ]
    },
    {
     "name": "stdout",
     "output_type": "stream",
     "text": [
      "Train on 3285410 samples, validate on 365046 samples\n",
      "Epoch 1/3\n",
      "  97280/3285410 [..............................] - ETA: 2:14 - loss: 0.0416"
     ]
    },
    {
     "ename": "KeyboardInterrupt",
     "evalue": "",
     "output_type": "error",
     "traceback": [
      "\u001b[0;31m---------------------------------------------------------------------------\u001b[0m",
      "\u001b[0;31mKeyboardInterrupt\u001b[0m                         Traceback (most recent call last)",
      "\u001b[0;32m<ipython-input-49-9047b6ef7a15>\u001b[0m in \u001b[0;36m<module>\u001b[0;34m\u001b[0m\n\u001b[1;32m      1\u001b[0m hist = model.fit(x = x_train, y = y_train, validation_data = (x_val, y_val),\n\u001b[0;32m----> 2\u001b[0;31m                  batch_size = batch_size, epochs = n_epochs, verbose = True, shuffle = True)\n\u001b[0m",
      "\u001b[0;32m~/anaconda3/lib/python3.7/site-packages/keras/engine/training.py\u001b[0m in \u001b[0;36mfit\u001b[0;34m(self, x, y, batch_size, epochs, verbose, callbacks, validation_split, validation_data, shuffle, class_weight, sample_weight, initial_epoch, steps_per_epoch, validation_steps, validation_freq, max_queue_size, workers, use_multiprocessing, **kwargs)\u001b[0m\n\u001b[1;32m   1237\u001b[0m                                         \u001b[0msteps_per_epoch\u001b[0m\u001b[0;34m=\u001b[0m\u001b[0msteps_per_epoch\u001b[0m\u001b[0;34m,\u001b[0m\u001b[0;34m\u001b[0m\u001b[0;34m\u001b[0m\u001b[0m\n\u001b[1;32m   1238\u001b[0m                                         \u001b[0mvalidation_steps\u001b[0m\u001b[0;34m=\u001b[0m\u001b[0mvalidation_steps\u001b[0m\u001b[0;34m,\u001b[0m\u001b[0;34m\u001b[0m\u001b[0;34m\u001b[0m\u001b[0m\n\u001b[0;32m-> 1239\u001b[0;31m                                         validation_freq=validation_freq)\n\u001b[0m\u001b[1;32m   1240\u001b[0m \u001b[0;34m\u001b[0m\u001b[0m\n\u001b[1;32m   1241\u001b[0m     def evaluate(self,\n",
      "\u001b[0;32m~/anaconda3/lib/python3.7/site-packages/keras/engine/training_arrays.py\u001b[0m in \u001b[0;36mfit_loop\u001b[0;34m(model, fit_function, fit_inputs, out_labels, batch_size, epochs, verbose, callbacks, val_function, val_inputs, shuffle, initial_epoch, steps_per_epoch, validation_steps, validation_freq)\u001b[0m\n\u001b[1;32m    194\u001b[0m                     \u001b[0mins_batch\u001b[0m\u001b[0;34m[\u001b[0m\u001b[0mi\u001b[0m\u001b[0;34m]\u001b[0m \u001b[0;34m=\u001b[0m \u001b[0mins_batch\u001b[0m\u001b[0;34m[\u001b[0m\u001b[0mi\u001b[0m\u001b[0;34m]\u001b[0m\u001b[0;34m.\u001b[0m\u001b[0mtoarray\u001b[0m\u001b[0;34m(\u001b[0m\u001b[0;34m)\u001b[0m\u001b[0;34m\u001b[0m\u001b[0;34m\u001b[0m\u001b[0m\n\u001b[1;32m    195\u001b[0m \u001b[0;34m\u001b[0m\u001b[0m\n\u001b[0;32m--> 196\u001b[0;31m                 \u001b[0mouts\u001b[0m \u001b[0;34m=\u001b[0m \u001b[0mfit_function\u001b[0m\u001b[0;34m(\u001b[0m\u001b[0mins_batch\u001b[0m\u001b[0;34m)\u001b[0m\u001b[0;34m\u001b[0m\u001b[0;34m\u001b[0m\u001b[0m\n\u001b[0m\u001b[1;32m    197\u001b[0m                 \u001b[0mouts\u001b[0m \u001b[0;34m=\u001b[0m \u001b[0mto_list\u001b[0m\u001b[0;34m(\u001b[0m\u001b[0mouts\u001b[0m\u001b[0;34m)\u001b[0m\u001b[0;34m\u001b[0m\u001b[0;34m\u001b[0m\u001b[0m\n\u001b[1;32m    198\u001b[0m                 \u001b[0;32mfor\u001b[0m \u001b[0ml\u001b[0m\u001b[0;34m,\u001b[0m \u001b[0mo\u001b[0m \u001b[0;32min\u001b[0m \u001b[0mzip\u001b[0m\u001b[0;34m(\u001b[0m\u001b[0mout_labels\u001b[0m\u001b[0;34m,\u001b[0m \u001b[0mouts\u001b[0m\u001b[0;34m)\u001b[0m\u001b[0;34m:\u001b[0m\u001b[0;34m\u001b[0m\u001b[0;34m\u001b[0m\u001b[0m\n",
      "\u001b[0;32m~/anaconda3/lib/python3.7/site-packages/tensorflow_core/python/keras/backend.py\u001b[0m in \u001b[0;36m__call__\u001b[0;34m(self, inputs)\u001b[0m\n\u001b[1;32m   3725\u001b[0m         \u001b[0mvalue\u001b[0m \u001b[0;34m=\u001b[0m \u001b[0mmath_ops\u001b[0m\u001b[0;34m.\u001b[0m\u001b[0mcast\u001b[0m\u001b[0;34m(\u001b[0m\u001b[0mvalue\u001b[0m\u001b[0;34m,\u001b[0m \u001b[0mtensor\u001b[0m\u001b[0;34m.\u001b[0m\u001b[0mdtype\u001b[0m\u001b[0;34m)\u001b[0m\u001b[0;34m\u001b[0m\u001b[0;34m\u001b[0m\u001b[0m\n\u001b[1;32m   3726\u001b[0m       \u001b[0mconverted_inputs\u001b[0m\u001b[0;34m.\u001b[0m\u001b[0mappend\u001b[0m\u001b[0;34m(\u001b[0m\u001b[0mvalue\u001b[0m\u001b[0;34m)\u001b[0m\u001b[0;34m\u001b[0m\u001b[0;34m\u001b[0m\u001b[0m\n\u001b[0;32m-> 3727\u001b[0;31m     \u001b[0moutputs\u001b[0m \u001b[0;34m=\u001b[0m \u001b[0mself\u001b[0m\u001b[0;34m.\u001b[0m\u001b[0m_graph_fn\u001b[0m\u001b[0;34m(\u001b[0m\u001b[0;34m*\u001b[0m\u001b[0mconverted_inputs\u001b[0m\u001b[0;34m)\u001b[0m\u001b[0;34m\u001b[0m\u001b[0;34m\u001b[0m\u001b[0m\n\u001b[0m\u001b[1;32m   3728\u001b[0m \u001b[0;34m\u001b[0m\u001b[0m\n\u001b[1;32m   3729\u001b[0m     \u001b[0;31m# EagerTensor.numpy() will often make a copy to ensure memory safety.\u001b[0m\u001b[0;34m\u001b[0m\u001b[0;34m\u001b[0m\u001b[0;34m\u001b[0m\u001b[0m\n",
      "\u001b[0;32m~/anaconda3/lib/python3.7/site-packages/tensorflow_core/python/eager/function.py\u001b[0m in \u001b[0;36m__call__\u001b[0;34m(self, *args, **kwargs)\u001b[0m\n\u001b[1;32m   1549\u001b[0m       \u001b[0mTypeError\u001b[0m\u001b[0;34m:\u001b[0m \u001b[0mFor\u001b[0m \u001b[0minvalid\u001b[0m \u001b[0mpositional\u001b[0m\u001b[0;34m/\u001b[0m\u001b[0mkeyword\u001b[0m \u001b[0margument\u001b[0m \u001b[0mcombinations\u001b[0m\u001b[0;34m.\u001b[0m\u001b[0;34m\u001b[0m\u001b[0;34m\u001b[0m\u001b[0m\n\u001b[1;32m   1550\u001b[0m     \"\"\"\n\u001b[0;32m-> 1551\u001b[0;31m     \u001b[0;32mreturn\u001b[0m \u001b[0mself\u001b[0m\u001b[0;34m.\u001b[0m\u001b[0m_call_impl\u001b[0m\u001b[0;34m(\u001b[0m\u001b[0margs\u001b[0m\u001b[0;34m,\u001b[0m \u001b[0mkwargs\u001b[0m\u001b[0;34m)\u001b[0m\u001b[0;34m\u001b[0m\u001b[0;34m\u001b[0m\u001b[0m\n\u001b[0m\u001b[1;32m   1552\u001b[0m \u001b[0;34m\u001b[0m\u001b[0m\n\u001b[1;32m   1553\u001b[0m   \u001b[0;32mdef\u001b[0m \u001b[0m_call_impl\u001b[0m\u001b[0;34m(\u001b[0m\u001b[0mself\u001b[0m\u001b[0;34m,\u001b[0m \u001b[0margs\u001b[0m\u001b[0;34m,\u001b[0m \u001b[0mkwargs\u001b[0m\u001b[0;34m,\u001b[0m \u001b[0mcancellation_manager\u001b[0m\u001b[0;34m=\u001b[0m\u001b[0;32mNone\u001b[0m\u001b[0;34m)\u001b[0m\u001b[0;34m:\u001b[0m\u001b[0;34m\u001b[0m\u001b[0;34m\u001b[0m\u001b[0m\n",
      "\u001b[0;32m~/anaconda3/lib/python3.7/site-packages/tensorflow_core/python/eager/function.py\u001b[0m in \u001b[0;36m_call_impl\u001b[0;34m(self, args, kwargs, cancellation_manager)\u001b[0m\n\u001b[1;32m   1589\u001b[0m       raise TypeError(\"Keyword arguments {} unknown. Expected {}.\".format(\n\u001b[1;32m   1590\u001b[0m           list(kwargs.keys()), list(self._arg_keywords)))\n\u001b[0;32m-> 1591\u001b[0;31m     \u001b[0;32mreturn\u001b[0m \u001b[0mself\u001b[0m\u001b[0;34m.\u001b[0m\u001b[0m_call_flat\u001b[0m\u001b[0;34m(\u001b[0m\u001b[0margs\u001b[0m\u001b[0;34m,\u001b[0m \u001b[0mself\u001b[0m\u001b[0;34m.\u001b[0m\u001b[0mcaptured_inputs\u001b[0m\u001b[0;34m,\u001b[0m \u001b[0mcancellation_manager\u001b[0m\u001b[0;34m)\u001b[0m\u001b[0;34m\u001b[0m\u001b[0;34m\u001b[0m\u001b[0m\n\u001b[0m\u001b[1;32m   1592\u001b[0m \u001b[0;34m\u001b[0m\u001b[0m\n\u001b[1;32m   1593\u001b[0m   \u001b[0;32mdef\u001b[0m \u001b[0m_filtered_call\u001b[0m\u001b[0;34m(\u001b[0m\u001b[0mself\u001b[0m\u001b[0;34m,\u001b[0m \u001b[0margs\u001b[0m\u001b[0;34m,\u001b[0m \u001b[0mkwargs\u001b[0m\u001b[0;34m)\u001b[0m\u001b[0;34m:\u001b[0m\u001b[0;34m\u001b[0m\u001b[0;34m\u001b[0m\u001b[0m\n",
      "\u001b[0;32m~/anaconda3/lib/python3.7/site-packages/tensorflow_core/python/eager/function.py\u001b[0m in \u001b[0;36m_call_flat\u001b[0;34m(self, args, captured_inputs, cancellation_manager)\u001b[0m\n\u001b[1;32m   1690\u001b[0m       \u001b[0;31m# No tape is watching; skip to running the function.\u001b[0m\u001b[0;34m\u001b[0m\u001b[0;34m\u001b[0m\u001b[0;34m\u001b[0m\u001b[0m\n\u001b[1;32m   1691\u001b[0m       return self._build_call_outputs(self._inference_function.call(\n\u001b[0;32m-> 1692\u001b[0;31m           ctx, args, cancellation_manager=cancellation_manager))\n\u001b[0m\u001b[1;32m   1693\u001b[0m     forward_backward = self._select_forward_and_backward_functions(\n\u001b[1;32m   1694\u001b[0m         \u001b[0margs\u001b[0m\u001b[0;34m,\u001b[0m\u001b[0;34m\u001b[0m\u001b[0;34m\u001b[0m\u001b[0m\n",
      "\u001b[0;32m~/anaconda3/lib/python3.7/site-packages/tensorflow_core/python/eager/function.py\u001b[0m in \u001b[0;36mcall\u001b[0;34m(self, ctx, args, cancellation_manager)\u001b[0m\n\u001b[1;32m    543\u001b[0m               \u001b[0minputs\u001b[0m\u001b[0;34m=\u001b[0m\u001b[0margs\u001b[0m\u001b[0;34m,\u001b[0m\u001b[0;34m\u001b[0m\u001b[0;34m\u001b[0m\u001b[0m\n\u001b[1;32m    544\u001b[0m               \u001b[0mattrs\u001b[0m\u001b[0;34m=\u001b[0m\u001b[0;34m(\u001b[0m\u001b[0;34m\"executor_type\"\u001b[0m\u001b[0;34m,\u001b[0m \u001b[0mexecutor_type\u001b[0m\u001b[0;34m,\u001b[0m \u001b[0;34m\"config_proto\"\u001b[0m\u001b[0;34m,\u001b[0m \u001b[0mconfig\u001b[0m\u001b[0;34m)\u001b[0m\u001b[0;34m,\u001b[0m\u001b[0;34m\u001b[0m\u001b[0;34m\u001b[0m\u001b[0m\n\u001b[0;32m--> 545\u001b[0;31m               ctx=ctx)\n\u001b[0m\u001b[1;32m    546\u001b[0m         \u001b[0;32melse\u001b[0m\u001b[0;34m:\u001b[0m\u001b[0;34m\u001b[0m\u001b[0;34m\u001b[0m\u001b[0m\n\u001b[1;32m    547\u001b[0m           outputs = execute.execute_with_cancellation(\n",
      "\u001b[0;32m~/anaconda3/lib/python3.7/site-packages/tensorflow_core/python/eager/execute.py\u001b[0m in \u001b[0;36mquick_execute\u001b[0;34m(op_name, num_outputs, inputs, attrs, ctx, name)\u001b[0m\n\u001b[1;32m     59\u001b[0m     tensors = pywrap_tensorflow.TFE_Py_Execute(ctx._handle, device_name,\n\u001b[1;32m     60\u001b[0m                                                \u001b[0mop_name\u001b[0m\u001b[0;34m,\u001b[0m \u001b[0minputs\u001b[0m\u001b[0;34m,\u001b[0m \u001b[0mattrs\u001b[0m\u001b[0;34m,\u001b[0m\u001b[0;34m\u001b[0m\u001b[0;34m\u001b[0m\u001b[0m\n\u001b[0;32m---> 61\u001b[0;31m                                                num_outputs)\n\u001b[0m\u001b[1;32m     62\u001b[0m   \u001b[0;32mexcept\u001b[0m \u001b[0mcore\u001b[0m\u001b[0;34m.\u001b[0m\u001b[0m_NotOkStatusException\u001b[0m \u001b[0;32mas\u001b[0m \u001b[0me\u001b[0m\u001b[0;34m:\u001b[0m\u001b[0;34m\u001b[0m\u001b[0;34m\u001b[0m\u001b[0m\n\u001b[1;32m     63\u001b[0m     \u001b[0;32mif\u001b[0m \u001b[0mname\u001b[0m \u001b[0;32mis\u001b[0m \u001b[0;32mnot\u001b[0m \u001b[0;32mNone\u001b[0m\u001b[0;34m:\u001b[0m\u001b[0;34m\u001b[0m\u001b[0;34m\u001b[0m\u001b[0m\n",
      "\u001b[0;31mKeyboardInterrupt\u001b[0m: "
     ]
    }
   ],
   "source": [
    "hist = model.fit(x = x_train, y = y_train, validation_data = (x_val, y_val),\n",
    "                 batch_size = batch_size, epochs = n_epochs, verbose = True, shuffle = True)"
   ]
  },
  {
   "cell_type": "code",
   "execution_count": 54,
   "metadata": {},
   "outputs": [
    {
     "data": {
      "image/png": "[encoded data removed]",
      "text/plain": [
       "<Figure size 432x288 with 1 Axes>"
      ]
     },
     "metadata": {
      "needs_background": "light"
     },
     "output_type": "display_data"
    }
   ],
   "source": [
    "plt.plot(hist.history['loss'])\n",
    "plt.plot(hist.history['val_loss'])\n",
    "plt.title('Model loss')\n",
    "plt.ylabel('Loss')\n",
    "plt.xlabel('Epoch')\n",
    "plt.legend(['Train', 'Eval'], loc = 'upper right')\n",
    "plt.show()"
   ]
  },
  {
   "cell_type": "code",
   "execution_count": 55,
   "metadata": {},
   "outputs": [
    {
     "data": {
      "text/plain": [
       "\"\\n### Alright, let's visualize some recommendations!\\n\""
      ]
     },
     "execution_count": 55,
     "metadata": {},
     "output_type": "execute_result"
    }
   ],
   "source": [
    "'''\n",
    "### Alright, let's visualize some recommendations!\n",
    "'''"
   ]
  },
  {
   "cell_type": "code",
   "execution_count": 56,
   "metadata": {},
   "outputs": [],
   "source": [
    "indexed_snacks = snack_df.set_index('food_id')\n",
    "#@st.cache\n",
    "def explore(user_id):\n",
    "    sub = rating[rating['user_id'] == user_id]\n",
    "\n",
    "    bought_snacks = sub['food_id']\n",
    "    \n",
    "    ratings = sub['rating']\n",
    "    \n",
    "    names = indexed_snacks.loc[bought_snacks]['food_name']\n",
    "    \n",
    "    genres = indexed_snacks.loc[bought_snacks]['food_genre']\n",
    "    \n",
    "    types = indexed_snacks.loc[bought_snacks]['type_of_food']\n",
    "    \n",
    "    rating_info = pd.DataFrame(zip(bought_snacks, names,\n",
    "                                   genres, types,ratings*10),\n",
    "                               columns = ['food_id', 'name',\n",
    "                                          'genre','type_of_food', 'rating']).set_index('food_id')\n",
    "    return rating_info.sort_values(by = 'rating', ascending = False).iloc[:]\n",
    "\n",
    "#@st.cache\n",
    "def recommend(user_id):\n",
    "    #bought snacks of the user\n",
    "    bought_snacks = np.sort(rating[rating['user_id'] == user_id]['food_id'])\n",
    "    \n",
    "    #all snacks not bought by the user\n",
    "    test_snacks = np.array(list(set(all_snacks) - set(bought_snacks)))\n",
    "    \n",
    "    #creating an array of user ids with the same length as all snacks not bought by user\n",
    "    test_user = np.array([user_id] * len(test_snacks))\n",
    "    \n",
    "    #creating an array of unbought snacks with the respective item id\n",
    "    test_items = np.array([snack2item(a) for a in test_snacks])\n",
    "    \n",
    "    #for the snacks which are not bought by user show \n",
    "    #all columns(food_id,food_name,type of food,food_genre,hot encoded feature column)\n",
    "    sub_snack = indexed_snacks.loc[test_snacks]\n",
    "    \n",
    "    #stacking the food_genre features columns\n",
    "    test_features = np.stack(sub_snack['features'].to_numpy())\n",
    "    \n",
    "    test = [test_user, test_items, test_features]\n",
    "    preds = model.predict(test).flatten()\n",
    "    \n",
    "    results = pd.DataFrame(zip(sub_snack['food_name'], test_snacks,  sub_snack['food_genre'],sub_snack['type_of_food'], preds * 10),\n",
    "                           columns = ['name', 'food_id',\n",
    "                                      'genre','type_of_food', 'score']).set_index('food_id')\n",
    "    return results.sort_values(by = 'score', ascending = False).iloc[:]\n"
   ]
  },
  {
   "cell_type": "code",
   "execution_count": 57,
   "metadata": {},
   "outputs": [
    {
     "data": {
      "text/html": [
       "<div>\n",
       "<style scoped>\n",
       "    .dataframe tbody tr th:only-of-type {\n",
       "        vertical-align: middle;\n",
       "    }\n",
       "\n",
       "    .dataframe tbody tr th {\n",
       "        vertical-align: top;\n",
       "    }\n",
       "\n",
       "    .dataframe thead th {\n",
       "        text-align: right;\n",
       "    }\n",
       "</style>\n",
       "<table border=\"1\" class=\"dataframe\">\n",
       "  <thead>\n",
       "    <tr style=\"text-align: right;\">\n",
       "      <th></th>\n",
       "      <th>name</th>\n",
       "      <th>genre</th>\n",
       "      <th>type_of_food</th>\n",
       "      <th>rating</th>\n",
       "    </tr>\n",
       "    <tr>\n",
       "      <th>food_id</th>\n",
       "      <th></th>\n",
       "      <th></th>\n",
       "      <th></th>\n",
       "      <th></th>\n",
       "    </tr>\n",
       "  </thead>\n",
       "  <tbody>\n",
       "    <tr>\n",
       "      <th>4898</th>\n",
       "      <td>Shufflester</td>\n",
       "      <td>vegetarian,baked,sweet</td>\n",
       "      <td>Cakes</td>\n",
       "      <td>9.0</td>\n",
       "    </tr>\n",
       "    <tr>\n",
       "      <th>6702</th>\n",
       "      <td>Kanoodle</td>\n",
       "      <td>vegan</td>\n",
       "      <td>International</td>\n",
       "      <td>9.0</td>\n",
       "    </tr>\n",
       "    <tr>\n",
       "      <th>392</th>\n",
       "      <td>Wovake</td>\n",
       "      <td>vegan,healthy</td>\n",
       "      <td>Energy Bars</td>\n",
       "      <td>9.0</td>\n",
       "    </tr>\n",
       "    <tr>\n",
       "      <th>1535</th>\n",
       "      <td>Lay's Oven baked Potato Crisps, Original</td>\n",
       "      <td>vegetarian,baked</td>\n",
       "      <td>Chips</td>\n",
       "      <td>9.0</td>\n",
       "    </tr>\n",
       "    <tr>\n",
       "      <th>16498</th>\n",
       "      <td>Bika chesse Cuttlefish</td>\n",
       "      <td>non vegetarian,baked, cheese</td>\n",
       "      <td>Chips</td>\n",
       "      <td>9.0</td>\n",
       "    </tr>\n",
       "    <tr>\n",
       "      <th>22319</th>\n",
       "      <td>Jayo</td>\n",
       "      <td>vegan</td>\n",
       "      <td>Bread Products</td>\n",
       "      <td>8.0</td>\n",
       "    </tr>\n",
       "    <tr>\n",
       "      <th>20</th>\n",
       "      <td>Mcguire-Porter</td>\n",
       "      <td>vegetarian,baked,sweet</td>\n",
       "      <td>Cakes</td>\n",
       "      <td>8.0</td>\n",
       "    </tr>\n",
       "    <tr>\n",
       "      <th>121</th>\n",
       "      <td>Yaq</td>\n",
       "      <td>vegetarian,frozen food</td>\n",
       "      <td>International</td>\n",
       "      <td>8.0</td>\n",
       "    </tr>\n",
       "    <tr>\n",
       "      <th>5114</th>\n",
       "      <td>Garlic and aubergine bread</td>\n",
       "      <td>vegan</td>\n",
       "      <td>Bread Products</td>\n",
       "      <td>8.0</td>\n",
       "    </tr>\n",
       "    <tr>\n",
       "      <th>27899</th>\n",
       "      <td>Spencer, Matthews and Garcia</td>\n",
       "      <td>vegan, chocolate,gluten free,sweet</td>\n",
       "      <td>Chocolates</td>\n",
       "      <td>7.0</td>\n",
       "    </tr>\n",
       "    <tr>\n",
       "      <th>687</th>\n",
       "      <td>Holt, Anderson and Lucero</td>\n",
       "      <td>vegan</td>\n",
       "      <td>International</td>\n",
       "      <td>7.0</td>\n",
       "    </tr>\n",
       "    <tr>\n",
       "      <th>60</th>\n",
       "      <td>Stevenson, Gonzales and Jones</td>\n",
       "      <td>vegetarian,frozen food</td>\n",
       "      <td>International</td>\n",
       "      <td>7.0</td>\n",
       "    </tr>\n",
       "    <tr>\n",
       "      <th>232</th>\n",
       "      <td>Tanoodle</td>\n",
       "      <td>vegetarian,baked,salty</td>\n",
       "      <td>Chips</td>\n",
       "      <td>6.0</td>\n",
       "    </tr>\n",
       "    <tr>\n",
       "      <th>11757</th>\n",
       "      <td>Reese, Howard and Vasquez</td>\n",
       "      <td>vegetarian,baked</td>\n",
       "      <td>Bread Products</td>\n",
       "      <td>6.0</td>\n",
       "    </tr>\n",
       "    <tr>\n",
       "      <th>21881</th>\n",
       "      <td>Johnson Ltd</td>\n",
       "      <td>vegetarian,baked</td>\n",
       "      <td>Cookies/Biscuits</td>\n",
       "      <td>5.0</td>\n",
       "    </tr>\n",
       "    <tr>\n",
       "      <th>1689</th>\n",
       "      <td>Brainlounge</td>\n",
       "      <td>vegetarian,healthy</td>\n",
       "      <td>Yogurt</td>\n",
       "      <td>4.0</td>\n",
       "    </tr>\n",
       "  </tbody>\n",
       "</table>\n",
       "</div>"
      ],
      "text/plain": [
       "                                             name  \\\n",
       "food_id                                             \n",
       "4898                                  Shufflester   \n",
       "6702                                     Kanoodle   \n",
       "392                                        Wovake   \n",
       "1535     Lay's Oven baked Potato Crisps, Original   \n",
       "16498                     Bika chesse Cuttlefish    \n",
       "22319                                        Jayo   \n",
       "20                                 Mcguire-Porter   \n",
       "121                                           Yaq   \n",
       "5114                   Garlic and aubergine bread   \n",
       "27899                Spencer, Matthews and Garcia   \n",
       "687                     Holt, Anderson and Lucero   \n",
       "60                  Stevenson, Gonzales and Jones   \n",
       "232                                      Tanoodle   \n",
       "11757                   Reese, Howard and Vasquez   \n",
       "21881                                 Johnson Ltd   \n",
       "1689                                  Brainlounge   \n",
       "\n",
       "                                      genre      type_of_food  rating  \n",
       "food_id                                                                \n",
       "4898                 vegetarian,baked,sweet             Cakes     9.0  \n",
       "6702                                  vegan    International      9.0  \n",
       "392                           vegan,healthy       Energy Bars     9.0  \n",
       "1535                       vegetarian,baked             Chips     9.0  \n",
       "16498          non vegetarian,baked, cheese             Chips     9.0  \n",
       "22319                                 vegan    Bread Products     8.0  \n",
       "20                   vegetarian,baked,sweet             Cakes     8.0  \n",
       "121                  vegetarian,frozen food    International      8.0  \n",
       "5114                                  vegan    Bread Products     8.0  \n",
       "27899    vegan, chocolate,gluten free,sweet        Chocolates     7.0  \n",
       "687                                   vegan    International      7.0  \n",
       "60                   vegetarian,frozen food    International      7.0  \n",
       "232                  vegetarian,baked,salty             Chips     6.0  \n",
       "11757                      vegetarian,baked    Bread Products     6.0  \n",
       "21881                      vegetarian,baked  Cookies/Biscuits     5.0  \n",
       "1689                     vegetarian,healthy           Yogurt      4.0  "
      ]
     },
     "execution_count": 57,
     "metadata": {},
     "output_type": "execute_result"
    }
   ],
   "source": [
    "# explore(999) "
   ]
  },
  {
   "cell_type": "code",
   "execution_count": 58,
   "metadata": {},
   "outputs": [
    {
     "data": {
      "text/html": [
       "<div>\n",
       "<style scoped>\n",
       "    .dataframe tbody tr th:only-of-type {\n",
       "        vertical-align: middle;\n",
       "    }\n",
       "\n",
       "    .dataframe tbody tr th {\n",
       "        vertical-align: top;\n",
       "    }\n",
       "\n",
       "    .dataframe thead th {\n",
       "        text-align: right;\n",
       "    }\n",
       "</style>\n",
       "<table border=\"1\" class=\"dataframe\">\n",
       "  <thead>\n",
       "    <tr style=\"text-align: right;\">\n",
       "      <th></th>\n",
       "      <th>name</th>\n",
       "      <th>genre</th>\n",
       "      <th>type_of_food</th>\n",
       "      <th>score</th>\n",
       "    </tr>\n",
       "    <tr>\n",
       "      <th>food_id</th>\n",
       "      <th></th>\n",
       "      <th></th>\n",
       "      <th></th>\n",
       "      <th></th>\n",
       "    </tr>\n",
       "  </thead>\n",
       "  <tbody>\n",
       "    <tr>\n",
       "      <th>120</th>\n",
       "      <td>Hunt, Smith and Horton</td>\n",
       "      <td>vegetarian,baked</td>\n",
       "      <td>Cookies/Biscuits</td>\n",
       "      <td>8.723890</td>\n",
       "    </tr>\n",
       "    <tr>\n",
       "      <th>249</th>\n",
       "      <td>Zontrax</td>\n",
       "      <td>vegetarian,baked</td>\n",
       "      <td>Cakes</td>\n",
       "      <td>8.662949</td>\n",
       "    </tr>\n",
       "    <tr>\n",
       "      <th>1604</th>\n",
       "      <td>Binxing</td>\n",
       "      <td>vegetarian,baked</td>\n",
       "      <td>Cookies/Biscuits</td>\n",
       "      <td>8.633106</td>\n",
       "    </tr>\n",
       "    <tr>\n",
       "      <th>61</th>\n",
       "      <td>Preston-Miller</td>\n",
       "      <td>vegetarian, chocolate,sweet</td>\n",
       "      <td>Chocolates</td>\n",
       "      <td>8.606371</td>\n",
       "    </tr>\n",
       "    <tr>\n",
       "      <th>1575</th>\n",
       "      <td>Onion and black pepper bagel</td>\n",
       "      <td>vegetarian,baked</td>\n",
       "      <td>Bread Products</td>\n",
       "      <td>8.570006</td>\n",
       "    </tr>\n",
       "    <tr>\n",
       "      <th>...</th>\n",
       "      <td>...</td>\n",
       "      <td>...</td>\n",
       "      <td>...</td>\n",
       "      <td>...</td>\n",
       "    </tr>\n",
       "    <tr>\n",
       "      <th>3361</th>\n",
       "      <td>Mckee Ltd</td>\n",
       "      <td>vegetarian,sweet,artificial flavours</td>\n",
       "      <td>Candy</td>\n",
       "      <td>0.000255</td>\n",
       "    </tr>\n",
       "    <tr>\n",
       "      <th>2792</th>\n",
       "      <td>Marshall Inc</td>\n",
       "      <td>vegetarian</td>\n",
       "      <td>Bread Products</td>\n",
       "      <td>0.000252</td>\n",
       "    </tr>\n",
       "    <tr>\n",
       "      <th>3424</th>\n",
       "      <td>Cooper, Greene and Romero</td>\n",
       "      <td>vegetarian,baked</td>\n",
       "      <td>Cakes</td>\n",
       "      <td>0.000247</td>\n",
       "    </tr>\n",
       "    <tr>\n",
       "      <th>4049</th>\n",
       "      <td>Salas-Smith</td>\n",
       "      <td>vegan, dark chocolate,gluten free, bitter</td>\n",
       "      <td>Chocolates</td>\n",
       "      <td>0.000221</td>\n",
       "    </tr>\n",
       "    <tr>\n",
       "      <th>4504</th>\n",
       "      <td>Peterson and Sons</td>\n",
       "      <td>vegetarian,baked, spicy</td>\n",
       "      <td>Chips</td>\n",
       "      <td>0.000206</td>\n",
       "    </tr>\n",
       "  </tbody>\n",
       "</table>\n",
       "<p>8331 rows × 4 columns</p>\n",
       "</div>"
      ],
      "text/plain": [
       "                                 name  \\\n",
       "food_id                                 \n",
       "120            Hunt, Smith and Horton   \n",
       "249                           Zontrax   \n",
       "1604                          Binxing   \n",
       "61                     Preston-Miller   \n",
       "1575     Onion and black pepper bagel   \n",
       "...                               ...   \n",
       "3361                        Mckee Ltd   \n",
       "2792                     Marshall Inc   \n",
       "3424        Cooper, Greene and Romero   \n",
       "4049                      Salas-Smith   \n",
       "4504                Peterson and Sons   \n",
       "\n",
       "                                             genre      type_of_food     score  \n",
       "food_id                                                                         \n",
       "120                               vegetarian,baked  Cookies/Biscuits  8.723890  \n",
       "249                               vegetarian,baked             Cakes  8.662949  \n",
       "1604                              vegetarian,baked  Cookies/Biscuits  8.633106  \n",
       "61                     vegetarian, chocolate,sweet        Chocolates  8.606371  \n",
       "1575                              vegetarian,baked    Bread Products  8.570006  \n",
       "...                                            ...               ...       ...  \n",
       "3361          vegetarian,sweet,artificial flavours             Candy  0.000255  \n",
       "2792                                    vegetarian    Bread Products  0.000252  \n",
       "3424                              vegetarian,baked             Cakes  0.000247  \n",
       "4049     vegan, dark chocolate,gluten free, bitter        Chocolates  0.000221  \n",
       "4504                       vegetarian,baked, spicy             Chips  0.000206  \n",
       "\n",
       "[8331 rows x 4 columns]"
      ]
     },
     "execution_count": 58,
     "metadata": {},
     "output_type": "execute_result"
    }
   ],
   "source": [
    "# recommend(999)"
   ]
  },
  {
   "cell_type": "code",
   "execution_count": 59,
   "metadata": {},
   "outputs": [
    {
     "data": {
      "text/html": [
       "<div>\n",
       "<style scoped>\n",
       "    .dataframe tbody tr th:only-of-type {\n",
       "        vertical-align: middle;\n",
       "    }\n",
       "\n",
       "    .dataframe tbody tr th {\n",
       "        vertical-align: top;\n",
       "    }\n",
       "\n",
       "    .dataframe thead th {\n",
       "        text-align: right;\n",
       "    }\n",
       "</style>\n",
       "<table border=\"1\" class=\"dataframe\">\n",
       "  <thead>\n",
       "    <tr style=\"text-align: right;\">\n",
       "      <th></th>\n",
       "      <th>name</th>\n",
       "      <th>genre</th>\n",
       "      <th>type_of_food</th>\n",
       "      <th>rating</th>\n",
       "    </tr>\n",
       "    <tr>\n",
       "      <th>food_id</th>\n",
       "      <th></th>\n",
       "      <th></th>\n",
       "      <th></th>\n",
       "      <th></th>\n",
       "    </tr>\n",
       "  </thead>\n",
       "  <tbody>\n",
       "    <tr>\n",
       "      <th>523</th>\n",
       "      <td>Hypernism</td>\n",
       "      <td>non vegetarian,healthy</td>\n",
       "      <td>Protien Bars</td>\n",
       "      <td>10.0</td>\n",
       "    </tr>\n",
       "    <tr>\n",
       "      <th>199</th>\n",
       "      <td>Aubergine and pepper uramaki</td>\n",
       "      <td>vegetarian,frozen food</td>\n",
       "      <td>International</td>\n",
       "      <td>10.0</td>\n",
       "    </tr>\n",
       "    <tr>\n",
       "      <th>4087</th>\n",
       "      <td>Flowdesk</td>\n",
       "      <td>non vegetarian</td>\n",
       "      <td>Bread Products</td>\n",
       "      <td>10.0</td>\n",
       "    </tr>\n",
       "    <tr>\n",
       "      <th>1192</th>\n",
       "      <td>Nelson-Peters</td>\n",
       "      <td>vegetarian, dark chocolate,gluten free, bitter</td>\n",
       "      <td>Chocolates</td>\n",
       "      <td>10.0</td>\n",
       "    </tr>\n",
       "    <tr>\n",
       "      <th>846</th>\n",
       "      <td>Jaxbean</td>\n",
       "      <td>non vegetarian,baked,salty</td>\n",
       "      <td>Chips</td>\n",
       "      <td>9.0</td>\n",
       "    </tr>\n",
       "    <tr>\n",
       "      <th>164</th>\n",
       "      <td>Caraway and chamomile cake</td>\n",
       "      <td>non vegetarian,sweet</td>\n",
       "      <td>Cakes</td>\n",
       "      <td>9.0</td>\n",
       "    </tr>\n",
       "    <tr>\n",
       "      <th>24</th>\n",
       "      <td>Gigabox</td>\n",
       "      <td>vegetarian,frozen food</td>\n",
       "      <td>International</td>\n",
       "      <td>9.0</td>\n",
       "    </tr>\n",
       "    <tr>\n",
       "      <th>517</th>\n",
       "      <td>Reilly LLC</td>\n",
       "      <td>non vegetarian,baked</td>\n",
       "      <td>Bread Products</td>\n",
       "      <td>9.0</td>\n",
       "    </tr>\n",
       "    <tr>\n",
       "      <th>2605</th>\n",
       "      <td>Viva</td>\n",
       "      <td>vegan, dark chocolate,gluten free, bitter</td>\n",
       "      <td>Chocolates</td>\n",
       "      <td>8.0</td>\n",
       "    </tr>\n",
       "    <tr>\n",
       "      <th>2164</th>\n",
       "      <td>Quatz</td>\n",
       "      <td>vegetarian,sweet,artificial flavours</td>\n",
       "      <td>Candy</td>\n",
       "      <td>8.0</td>\n",
       "    </tr>\n",
       "    <tr>\n",
       "      <th>57</th>\n",
       "      <td>Xin Xang</td>\n",
       "      <td>vegetarian, fried</td>\n",
       "      <td>International</td>\n",
       "      <td>8.0</td>\n",
       "    </tr>\n",
       "    <tr>\n",
       "      <th>513</th>\n",
       "      <td>Twus</td>\n",
       "      <td>vegetarian,baked</td>\n",
       "      <td>Bread Products</td>\n",
       "      <td>8.0</td>\n",
       "    </tr>\n",
       "    <tr>\n",
       "      <th>245</th>\n",
       "      <td>Mummies</td>\n",
       "      <td>vegetarian,sweet,artificial flavours</td>\n",
       "      <td>Candy</td>\n",
       "      <td>8.0</td>\n",
       "    </tr>\n",
       "    <tr>\n",
       "      <th>2890</th>\n",
       "      <td>Transcof</td>\n",
       "      <td>non vegetarian</td>\n",
       "      <td>Jams</td>\n",
       "      <td>8.0</td>\n",
       "    </tr>\n",
       "    <tr>\n",
       "      <th>357</th>\n",
       "      <td>Gonzalez-Garza</td>\n",
       "      <td>vegetarian, fried</td>\n",
       "      <td>International</td>\n",
       "      <td>8.0</td>\n",
       "    </tr>\n",
       "    <tr>\n",
       "      <th>1562</th>\n",
       "      <td>Hobbs, Myers and Turner</td>\n",
       "      <td>non vegetarian</td>\n",
       "      <td>Bread Products</td>\n",
       "      <td>8.0</td>\n",
       "    </tr>\n",
       "    <tr>\n",
       "      <th>3228</th>\n",
       "      <td>Oyonder</td>\n",
       "      <td>vegan, chocolate,salty</td>\n",
       "      <td>Chocolates</td>\n",
       "      <td>8.0</td>\n",
       "    </tr>\n",
       "    <tr>\n",
       "      <th>405</th>\n",
       "      <td>Miller-Stone</td>\n",
       "      <td>non vegetarian,baked,salty</td>\n",
       "      <td>Chips</td>\n",
       "      <td>7.0</td>\n",
       "    </tr>\n",
       "    <tr>\n",
       "      <th>129</th>\n",
       "      <td>Perez Group</td>\n",
       "      <td>non vegetarian,healthy</td>\n",
       "      <td>Energy Bars</td>\n",
       "      <td>7.0</td>\n",
       "    </tr>\n",
       "    <tr>\n",
       "      <th>597</th>\n",
       "      <td>Zoomcast</td>\n",
       "      <td>non vegetarian</td>\n",
       "      <td>Crepes</td>\n",
       "      <td>7.0</td>\n",
       "    </tr>\n",
       "    <tr>\n",
       "      <th>512</th>\n",
       "      <td>Jush</td>\n",
       "      <td>vegetarian,gluten free,healthy</td>\n",
       "      <td>Energy Bars</td>\n",
       "      <td>7.0</td>\n",
       "    </tr>\n",
       "    <tr>\n",
       "      <th>4472</th>\n",
       "      <td>Andalax</td>\n",
       "      <td>non vegetarian,baked</td>\n",
       "      <td>Cookies/Biscuits</td>\n",
       "      <td>7.0</td>\n",
       "    </tr>\n",
       "    <tr>\n",
       "      <th>120</th>\n",
       "      <td>Hunt, Smith and Horton</td>\n",
       "      <td>vegetarian,baked</td>\n",
       "      <td>Cookies/Biscuits</td>\n",
       "      <td>7.0</td>\n",
       "    </tr>\n",
       "    <tr>\n",
       "      <th>1293</th>\n",
       "      <td>Elliott-Chung</td>\n",
       "      <td>vegan, chocolate,gluten free,salty</td>\n",
       "      <td>Chocolates</td>\n",
       "      <td>6.0</td>\n",
       "    </tr>\n",
       "    <tr>\n",
       "      <th>3420</th>\n",
       "      <td>Dunn, Roberts and Brown</td>\n",
       "      <td>non vegetarian,baked</td>\n",
       "      <td>Cookies/Biscuits</td>\n",
       "      <td>6.0</td>\n",
       "    </tr>\n",
       "    <tr>\n",
       "      <th>4715</th>\n",
       "      <td>Black, Jones and Perez</td>\n",
       "      <td>vegetarian,baked</td>\n",
       "      <td>Chips</td>\n",
       "      <td>6.0</td>\n",
       "    </tr>\n",
       "    <tr>\n",
       "      <th>990</th>\n",
       "      <td>Carson-Neal</td>\n",
       "      <td>vegetarian,gluten free,healthy</td>\n",
       "      <td>Energy Bars</td>\n",
       "      <td>6.0</td>\n",
       "    </tr>\n",
       "    <tr>\n",
       "      <th>169</th>\n",
       "      <td>Morales Group</td>\n",
       "      <td>vegetarian,frozen food</td>\n",
       "      <td>International</td>\n",
       "      <td>6.0</td>\n",
       "    </tr>\n",
       "    <tr>\n",
       "      <th>484</th>\n",
       "      <td>Jackson, Rhodes and Nguyen</td>\n",
       "      <td>non vegetarian,baked</td>\n",
       "      <td>Cakes</td>\n",
       "      <td>6.0</td>\n",
       "    </tr>\n",
       "    <tr>\n",
       "      <th>650</th>\n",
       "      <td>King and Sons</td>\n",
       "      <td>non vegetarian,healthy</td>\n",
       "      <td>Energy Bars</td>\n",
       "      <td>5.0</td>\n",
       "    </tr>\n",
       "    <tr>\n",
       "      <th>579</th>\n",
       "      <td>Stone-Davis</td>\n",
       "      <td>vegetarian,baked</td>\n",
       "      <td>Chips</td>\n",
       "      <td>5.0</td>\n",
       "    </tr>\n",
       "  </tbody>\n",
       "</table>\n",
       "</div>"
      ],
      "text/plain": [
       "                                 name  \\\n",
       "food_id                                 \n",
       "523                         Hypernism   \n",
       "199      Aubergine and pepper uramaki   \n",
       "4087                         Flowdesk   \n",
       "1192                    Nelson-Peters   \n",
       "846                           Jaxbean   \n",
       "164        Caraway and chamomile cake   \n",
       "24                            Gigabox   \n",
       "517                        Reilly LLC   \n",
       "2605                             Viva   \n",
       "2164                            Quatz   \n",
       "57                           Xin Xang   \n",
       "513                              Twus   \n",
       "245                           Mummies   \n",
       "2890                         Transcof   \n",
       "357                    Gonzalez-Garza   \n",
       "1562          Hobbs, Myers and Turner   \n",
       "3228                          Oyonder   \n",
       "405                      Miller-Stone   \n",
       "129                       Perez Group   \n",
       "597                          Zoomcast   \n",
       "512                              Jush   \n",
       "4472                          Andalax   \n",
       "120            Hunt, Smith and Horton   \n",
       "1293                    Elliott-Chung   \n",
       "3420          Dunn, Roberts and Brown   \n",
       "4715           Black, Jones and Perez   \n",
       "990                       Carson-Neal   \n",
       "169                     Morales Group   \n",
       "484        Jackson, Rhodes and Nguyen   \n",
       "650                     King and Sons   \n",
       "579                       Stone-Davis   \n",
       "\n",
       "                                                  genre      type_of_food  \\\n",
       "food_id                                                                     \n",
       "523                              non vegetarian,healthy      Protien Bars   \n",
       "199                              vegetarian,frozen food    International    \n",
       "4087                                     non vegetarian    Bread Products   \n",
       "1192     vegetarian, dark chocolate,gluten free, bitter        Chocolates   \n",
       "846                          non vegetarian,baked,salty             Chips   \n",
       "164                                non vegetarian,sweet             Cakes   \n",
       "24                               vegetarian,frozen food    International    \n",
       "517                                non vegetarian,baked    Bread Products   \n",
       "2605          vegan, dark chocolate,gluten free, bitter        Chocolates   \n",
       "2164               vegetarian,sweet,artificial flavours             Candy   \n",
       "57                                   vegetarian, fried     International    \n",
       "513                                    vegetarian,baked    Bread Products   \n",
       "245                vegetarian,sweet,artificial flavours             Candy   \n",
       "2890                                     non vegetarian              Jams   \n",
       "357                                  vegetarian, fried     International    \n",
       "1562                                     non vegetarian    Bread Products   \n",
       "3228                             vegan, chocolate,salty        Chocolates   \n",
       "405                          non vegetarian,baked,salty             Chips   \n",
       "129                              non vegetarian,healthy       Energy Bars   \n",
       "597                                      non vegetarian            Crepes   \n",
       "512                      vegetarian,gluten free,healthy       Energy Bars   \n",
       "4472                               non vegetarian,baked  Cookies/Biscuits   \n",
       "120                                    vegetarian,baked  Cookies/Biscuits   \n",
       "1293                 vegan, chocolate,gluten free,salty        Chocolates   \n",
       "3420                               non vegetarian,baked  Cookies/Biscuits   \n",
       "4715                                   vegetarian,baked             Chips   \n",
       "990                      vegetarian,gluten free,healthy       Energy Bars   \n",
       "169                              vegetarian,frozen food    International    \n",
       "484                                non vegetarian,baked             Cakes   \n",
       "650                              non vegetarian,healthy       Energy Bars   \n",
       "579                                    vegetarian,baked             Chips   \n",
       "\n",
       "         rating  \n",
       "food_id          \n",
       "523        10.0  \n",
       "199        10.0  \n",
       "4087       10.0  \n",
       "1192       10.0  \n",
       "846         9.0  \n",
       "164         9.0  \n",
       "24          9.0  \n",
       "517         9.0  \n",
       "2605        8.0  \n",
       "2164        8.0  \n",
       "57          8.0  \n",
       "513         8.0  \n",
       "245         8.0  \n",
       "2890        8.0  \n",
       "357         8.0  \n",
       "1562        8.0  \n",
       "3228        8.0  \n",
       "405         7.0  \n",
       "129         7.0  \n",
       "597         7.0  \n",
       "512         7.0  \n",
       "4472        7.0  \n",
       "120         7.0  \n",
       "1293        6.0  \n",
       "3420        6.0  \n",
       "4715        6.0  \n",
       "990         6.0  \n",
       "169         6.0  \n",
       "484         6.0  \n",
       "650         5.0  \n",
       "579         5.0  "
      ]
     },
     "execution_count": 59,
     "metadata": {},
     "output_type": "execute_result"
    }
   ],
   "source": [
    "# explore(8177)"
   ]
  },
  {
   "cell_type": "code",
   "execution_count": 60,
   "metadata": {},
   "outputs": [
    {
     "data": {
      "text/html": [
       "<div>\n",
       "<style scoped>\n",
       "    .dataframe tbody tr th:only-of-type {\n",
       "        vertical-align: middle;\n",
       "    }\n",
       "\n",
       "    .dataframe tbody tr th {\n",
       "        vertical-align: top;\n",
       "    }\n",
       "\n",
       "    .dataframe thead th {\n",
       "        text-align: right;\n",
       "    }\n",
       "</style>\n",
       "<table border=\"1\" class=\"dataframe\">\n",
       "  <thead>\n",
       "    <tr style=\"text-align: right;\">\n",
       "      <th></th>\n",
       "      <th>name</th>\n",
       "      <th>genre</th>\n",
       "      <th>type_of_food</th>\n",
       "      <th>score</th>\n",
       "    </tr>\n",
       "    <tr>\n",
       "      <th>food_id</th>\n",
       "      <th></th>\n",
       "      <th></th>\n",
       "      <th></th>\n",
       "      <th></th>\n",
       "    </tr>\n",
       "  </thead>\n",
       "  <tbody>\n",
       "    <tr>\n",
       "      <th>853</th>\n",
       "      <td>Microick</td>\n",
       "      <td>vegan</td>\n",
       "      <td>Cookies/Biscuits</td>\n",
       "      <td>9.385695</td>\n",
       "    </tr>\n",
       "    <tr>\n",
       "      <th>578</th>\n",
       "      <td>Cadbury Diary Milk Dark</td>\n",
       "      <td>vegetarian, dark chocolate, bitter</td>\n",
       "      <td>Chocolates</td>\n",
       "      <td>9.173521</td>\n",
       "    </tr>\n",
       "    <tr>\n",
       "      <th>16</th>\n",
       "      <td>Fliptune</td>\n",
       "      <td>vegetarian,baked,salty</td>\n",
       "      <td>Chips</td>\n",
       "      <td>9.146248</td>\n",
       "    </tr>\n",
       "    <tr>\n",
       "      <th>145</th>\n",
       "      <td>Davenport-Graham</td>\n",
       "      <td>vegetarian,baked,salty</td>\n",
       "      <td>Chips</td>\n",
       "      <td>9.022493</td>\n",
       "    </tr>\n",
       "    <tr>\n",
       "      <th>268</th>\n",
       "      <td>Browsebug</td>\n",
       "      <td>non vegetarian,baked</td>\n",
       "      <td>Bread Products</td>\n",
       "      <td>8.997500</td>\n",
       "    </tr>\n",
       "    <tr>\n",
       "      <th>...</th>\n",
       "      <td>...</td>\n",
       "      <td>...</td>\n",
       "      <td>...</td>\n",
       "      <td>...</td>\n",
       "    </tr>\n",
       "    <tr>\n",
       "      <th>333</th>\n",
       "      <td>Hartman-Ballard</td>\n",
       "      <td>vegetarian,baked, cheese</td>\n",
       "      <td>Chips</td>\n",
       "      <td>0.001948</td>\n",
       "    </tr>\n",
       "    <tr>\n",
       "      <th>7530</th>\n",
       "      <td>Campbell Group</td>\n",
       "      <td>non vegetarian,baked</td>\n",
       "      <td>Bread Products</td>\n",
       "      <td>0.001934</td>\n",
       "    </tr>\n",
       "    <tr>\n",
       "      <th>3424</th>\n",
       "      <td>Cooper, Greene and Romero</td>\n",
       "      <td>vegetarian,baked</td>\n",
       "      <td>Cakes</td>\n",
       "      <td>0.001612</td>\n",
       "    </tr>\n",
       "    <tr>\n",
       "      <th>7786</th>\n",
       "      <td>Massey, Nelson and Owen</td>\n",
       "      <td>vegetarian,baked, cheese</td>\n",
       "      <td>Chips</td>\n",
       "      <td>0.001520</td>\n",
       "    </tr>\n",
       "    <tr>\n",
       "      <th>4591</th>\n",
       "      <td>Lee, Morgan and Jones</td>\n",
       "      <td>vegetarian,baked,salty</td>\n",
       "      <td>Bread Products</td>\n",
       "      <td>0.001472</td>\n",
       "    </tr>\n",
       "  </tbody>\n",
       "</table>\n",
       "<p>8316 rows × 4 columns</p>\n",
       "</div>"
      ],
      "text/plain": [
       "                              name                               genre  \\\n",
       "food_id                                                                  \n",
       "853                       Microick                               vegan   \n",
       "578        Cadbury Diary Milk Dark  vegetarian, dark chocolate, bitter   \n",
       "16                        Fliptune             vegetarian,baked,salty    \n",
       "145               Davenport-Graham              vegetarian,baked,salty   \n",
       "268                      Browsebug                non vegetarian,baked   \n",
       "...                            ...                                 ...   \n",
       "333                Hartman-Ballard            vegetarian,baked, cheese   \n",
       "7530                Campbell Group                non vegetarian,baked   \n",
       "3424     Cooper, Greene and Romero                    vegetarian,baked   \n",
       "7786       Massey, Nelson and Owen            vegetarian,baked, cheese   \n",
       "4591         Lee, Morgan and Jones              vegetarian,baked,salty   \n",
       "\n",
       "             type_of_food     score  \n",
       "food_id                              \n",
       "853      Cookies/Biscuits  9.385695  \n",
       "578            Chocolates  9.173521  \n",
       "16                  Chips  9.146248  \n",
       "145                 Chips  9.022493  \n",
       "268        Bread Products  8.997500  \n",
       "...                   ...       ...  \n",
       "333                 Chips  0.001948  \n",
       "7530       Bread Products  0.001934  \n",
       "3424                Cakes  0.001612  \n",
       "7786                Chips  0.001520  \n",
       "4591       Bread Products  0.001472  \n",
       "\n",
       "[8316 rows x 4 columns]"
      ]
     },
     "execution_count": 60,
     "metadata": {},
     "output_type": "execute_result"
    }
   ],
   "source": [
    "# recommend(8177)"
   ]
  },
  {
   "cell_type": "code",
   "execution_count": 62,
   "metadata": {},
   "outputs": [
    {
     "data": {
      "text/plain": [
       "\"\\n## Apparently, the recommender works like a charm.\\nBut... There's still plenty of job to do!\\n\""
      ]
     },
     "execution_count": 62,
     "metadata": {},
     "output_type": "execute_result"
    }
   ],
   "source": [
    "'''\n",
    "## Apparently, the recommender works like a charm.\n",
    "'''"
   ]
  },
  {
   "cell_type": "code",
   "execution_count": null,
   "metadata": {},
   "outputs": [],
   "source": [
    "'''\n",
    "## Saving few user_id into csv files to run on the streamlit app\n",
    "'''"
   ]
  },
  {
   "cell_type": "code",
   "execution_count": 65,
   "metadata": {},
   "outputs": [],
   "source": [
    "df_8177 = explore(8177)\n",
    "df_8177['id'] = 8177\n",
    "df_111 = explore(111)\n",
    "df_111['id'] = 111\n",
    "df_555 = explore(555)\n",
    "df_555['id'] = 555\n",
    "df_366 = explore(366)\n",
    "df_366['id'] = 366\n",
    "df_10 = explore(10)\n",
    "df_10['id'] = 10\n",
    "df_444 = explore(444)\n",
    "df_444['id'] = 444\n",
    "df_31 = explore(31)\n",
    "df_31['id'] = 31"
   ]
  },
  {
   "cell_type": "code",
   "execution_count": 67,
   "metadata": {},
   "outputs": [],
   "source": [
    "df_explore = pd.concat([df_8177, df_111, df_555, df_366, df_10, df_444, df_31])"
   ]
  },
  {
   "cell_type": "code",
   "execution_count": 70,
   "metadata": {},
   "outputs": [],
   "source": [
    "df_explore.to_csv(\"df_explore.csv\", index=False)"
   ]
  },
  {
   "cell_type": "code",
   "execution_count": 71,
   "metadata": {},
   "outputs": [],
   "source": [
    "df_8177 = recommend(8177)\n",
    "df_8177['id'] = 8177\n",
    "df_111 = recommend(111)\n",
    "df_111['id'] = 111\n",
    "df_555 = recommend(555)\n",
    "df_555['id'] = 555\n",
    "df_366 = recommend(366)\n",
    "df_366['id'] = 366\n",
    "df_10 = recommend(10)\n",
    "df_10['id'] = 10\n",
    "df_444 = recommend(444)\n",
    "df_444['id'] = 444\n",
    "df_31 = recommend(31)\n",
    "df_31['id'] = 31"
   ]
  },
  {
   "cell_type": "code",
   "execution_count": 72,
   "metadata": {},
   "outputs": [],
   "source": [
    "df_recommend = pd.concat([df_8177, df_111, df_555, df_366, df_10, df_444, df_31])"
   ]
  },
  {
   "cell_type": "code",
   "execution_count": 75,
   "metadata": {},
   "outputs": [],
   "source": [
    "df_recommend.to_csv(\"df_recommend.csv\", index=False)"
   ]
  },
  {
   "cell_type": "code",
   "execution_count": 76,
   "metadata": {
    "scrolled": true
   },
   "outputs": [
    {
     "name": "stdout",
     "output_type": "stream",
     "text": [
      "  % Total    % Received % Xferd  Average Speed   Time    Time     Time  Current\n",
      "                                 Dload  Upload   Total   Spent    Left  Speed\n",
      "100   291  100   291    0     0   1966      0 --:--:-- --:--:-- --:--:--  1966\n",
      "Thanks for using my script - checkout christianfjung.com for more. \n",
      "Takes 1 Argument: Name  of ipynb. To stop, CTRL-C in Terminal or Stop Button in JN. \n",
      "\n",
      "\n",
      "[NbConvertApp] Converting notebook NCF-Assignment-4.ipynb to script\n",
      "[NbConvertApp] Writing 24781 bytes to NCF-Assignment-4.py\n",
      "\u001b[0m\n",
      "\u001b[34m\u001b[1m  You can now view your Streamlit app in your browser.\u001b[0m\n",
      "\u001b[0m\n",
      "\u001b[34m  Local URL: \u001b[0m\u001b[1mhttp://localhost:8501\u001b[0m\n",
      "\u001b[34m  Network URL: \u001b[0m\u001b[1mhttp://192.168.0.108:8501\u001b[0m\n",
      "\u001b[0m\n",
      "Using TensorFlow backend.\n",
      "2020-03-27 12:46:23.540640: I tensorflow/core/platform/cpu_feature_guard.cc:142] Your CPU supports instructions that this TensorFlow binary was not compiled to use: AVX2 FMA\n",
      "2020-03-27 12:46:23.561346: I tensorflow/compiler/xla/service/service.cc:168] XLA service 0x7ff3c4bf7c80 initialized for platform Host (this does not guarantee that XLA will be used). Devices:\n",
      "2020-03-27 12:46:23.561366: I tensorflow/compiler/xla/service/service.cc:176]   StreamExecutor device (0): Host, Default Version\n",
      "No GPU\n",
      "Tensorflow version: 2.1.0\n",
      "/Users/nikitaravindran/anaconda3/lib/python3.7/site-packages/numba/ir_utils.py:2041: NumbaPendingDeprecationWarning:\n",
      "\n",
      "\n",
      "Encountered the use of a type that is scheduled for deprecation: type 'reflected list' found for argument 'exclude' of function 'choice_w_exclusions'.\n",
      "\n",
      "For more information visit http://numba.pydata.org/numba-doc/latest/reference/deprecation.html#deprecation-of-reflection-for-list-and-set-types\n",
      "\n",
      "File \"app.py\", line 345:\n",
      "@jit\n",
      "def choice_w_exclusions(array, exclude, samples):\n",
      "^\n",
      "\n",
      "\n",
      "/Users/nikitaravindran/anaconda3/lib/python3.7/site-packages/numba/ir_utils.py:2041: NumbaPendingDeprecationWarning:\n",
      "\n",
      "\n",
      "Encountered the use of a type that is scheduled for deprecation: type 'reflected list' found for argument 'l' of function 'flat'.\n",
      "\n",
      "For more information visit http://numba.pydata.org/numba-doc/latest/reference/deprecation.html#deprecation-of-reflection-for-list-and-set-types\n",
      "\n",
      "File \"app.py\", line 353:\n",
      "@jit\n",
      "def flat(l):\n",
      "^\n",
      "\n",
      "\n",
      "/Users/nikitaravindran/Downloads/anime-recommendations-database/app.py:352: NumbaWarning:\n",
      "\n",
      "\n",
      "Compilation is falling back to object mode WITH looplifting enabled because Function flat failed at nopython mode lowering due to: cannot reflect element of reflected container: reflected list(reflected list(int64))\n",
      "\n",
      "\n",
      "finding looplift candidates\n",
      "/Users/nikitaravindran/anaconda3/lib/python3.7/site-packages/numba/object_mode_passes.py:178: NumbaWarning:\n",
      "\n",
      "Function \"flat\" was compiled in object mode without forceobj=True.\n",
      "\n",
      "File \"app.py\", line 353:\n",
      "@jit\n",
      "def flat(l):\n",
      "^\n",
      "\n",
      "\n",
      "/Users/nikitaravindran/anaconda3/lib/python3.7/site-packages/numba/object_mode_passes.py:188: NumbaDeprecationWarning:\n",
      "\n",
      "\n",
      "Fall-back from the nopython compilation path to the object mode compilation path has been detected, this is deprecated behaviour.\n",
      "\n",
      "For more information visit http://numba.pydata.org/numba-doc/latest/reference/deprecation.html#deprecation-of-object-mode-fall-back-behaviour-when-using-jit\n",
      "\n",
      "File \"app.py\", line 353:\n",
      "@jit\n",
      "def flat(l):\n",
      "^\n",
      "\n",
      "\n",
      "/Users/nikitaravindran/anaconda3/lib/python3.7/site-packages/numba/ir_utils.py:2041: NumbaPendingDeprecationWarning:\n",
      "\n",
      "\n",
      "Encountered the use of a type that is scheduled for deprecation: type 'reflected list' found for argument 'l' of function 'flat'.\n",
      "\n",
      "For more information visit http://numba.pydata.org/numba-doc/latest/reference/deprecation.html#deprecation-of-reflection-for-list-and-set-types\n",
      "\n",
      "File \"app.py\", line 353:\n",
      "@jit\n",
      "def flat(l):\n",
      "^\n",
      "\n",
      "\n",
      "/Users/nikitaravindran/anaconda3/lib/python3.7/site-packages/numba/ir_utils.py:2041: NumbaPendingDeprecationWarning:\n",
      "\n",
      "\n",
      "Encountered the use of a type that is scheduled for deprecation: type 'reflected list' found for argument 'l' of function 'flat'.\n",
      "\n",
      "For more information visit http://numba.pydata.org/numba-doc/latest/reference/deprecation.html#deprecation-of-reflection-for-list-and-set-types\n",
      "\n",
      "File \"app.py\", line 353:\n",
      "@jit\n",
      "def flat(l):\n",
      "^\n",
      "\n",
      "\n",
      "/Users/nikitaravindran/Downloads/anime-recommendations-database/app.py:352: NumbaWarning:\n",
      "\n",
      "\n",
      "Compilation is falling back to object mode WITH looplifting enabled because Function flat failed at nopython mode lowering due to: cannot reflect element of reflected container: reflected list(reflected list(float64))\n",
      "\n",
      "\n",
      "finding looplift candidates\n",
      "/Users/nikitaravindran/anaconda3/lib/python3.7/site-packages/numba/object_mode_passes.py:178: NumbaWarning:\n",
      "\n",
      "Function \"flat\" was compiled in object mode without forceobj=True.\n",
      "\n",
      "File \"app.py\", line 353:\n",
      "@jit\n",
      "def flat(l):\n",
      "^\n",
      "\n",
      "\n",
      "/Users/nikitaravindran/anaconda3/lib/python3.7/site-packages/numba/object_mode_passes.py:188: NumbaDeprecationWarning:\n",
      "\n",
      "\n",
      "Fall-back from the nopython compilation path to the object mode compilation path has been detected, this is deprecated behaviour.\n",
      "\n",
      "For more information visit http://numba.pydata.org/numba-doc/latest/reference/deprecation.html#deprecation-of-object-mode-fall-back-behaviour-when-using-jit\n",
      "\n",
      "File \"app.py\", line 353:\n",
      "@jit\n",
      "def flat(l):\n",
      "^\n",
      "\n",
      "\n",
      "/Users/nikitaravindran/Downloads/anime-recommendations-database/app.py:574: UserWarning:\n",
      "\n",
      "Update your `Model` call to the Keras 2 API: `Model(inputs=[<tf.Tenso..., outputs=Tensor(\"pr...)`\n",
      "\n",
      "/Users/nikitaravindran/anaconda3/lib/python3.7/site-packages/tensorflow_core/python/framework/indexed_slices.py:433: UserWarning:\n",
      "\n",
      "Converting sparse IndexedSlices to a dense Tensor of unknown shape. This may consume a large amount of memory.\n",
      "\n",
      "Train on 3285410 samples, validate on 365046 samples\n",
      "Epoch 1/3\n",
      "3285410/3285410 [==============================] - 119s 36us/step - loss: 0.0267 - val_loss: 0.0230\n",
      "Epoch 2/3\n",
      "3285410/3285410 [==============================] - 122s 37us/step - loss: 0.0209 - val_loss: 0.0211\n",
      "Epoch 3/3\n",
      "3285410/3285410 [==============================] - 125s 38us/step - loss: 0.0186 - val_loss: 0.0206\n",
      "/Users/nikitaravindran/Downloads/anime-recommendations-database/app.py:627: UserWarning:\n",
      "\n",
      "Matplotlib is currently using agg, which is a non-GUI backend, so cannot show the figure.\n",
      "\n",
      "No GPU\n",
      "Tensorflow version: 2.1.0\n",
      "/Users/nikitaravindran/anaconda3/lib/python3.7/site-packages/numba/ir_utils.py:2041: NumbaPendingDeprecationWarning:\n",
      "\n",
      "\n",
      "Encountered the use of a type that is scheduled for deprecation: type 'reflected list' found for argument 'exclude' of function 'choice_w_exclusions'.\n",
      "\n",
      "For more information visit http://numba.pydata.org/numba-doc/latest/reference/deprecation.html#deprecation-of-reflection-for-list-and-set-types\n",
      "\n",
      "File \"app.py\", line 345:\n",
      "@jit\n",
      "def choice_w_exclusions(array, exclude, samples):\n",
      "^\n",
      "\n",
      "\n",
      "/Users/nikitaravindran/anaconda3/lib/python3.7/site-packages/numba/ir_utils.py:2041: NumbaPendingDeprecationWarning:\n",
      "\n",
      "\n",
      "Encountered the use of a type that is scheduled for deprecation: type 'reflected list' found for argument 'l' of function 'flat'.\n",
      "\n",
      "For more information visit http://numba.pydata.org/numba-doc/latest/reference/deprecation.html#deprecation-of-reflection-for-list-and-set-types\n",
      "\n",
      "File \"app.py\", line 353:\n",
      "@jit\n",
      "def flat(l):\n",
      "^\n",
      "\n",
      "\n",
      "/Users/nikitaravindran/Downloads/anime-recommendations-database/app.py:352: NumbaWarning:\n",
      "\n",
      "\n",
      "Compilation is falling back to object mode WITH looplifting enabled because Function flat failed at nopython mode lowering due to: cannot reflect element of reflected container: reflected list(reflected list(int64))\n",
      "\n",
      "\n",
      "finding looplift candidates\n",
      "/Users/nikitaravindran/anaconda3/lib/python3.7/site-packages/numba/object_mode_passes.py:178: NumbaWarning:\n",
      "\n",
      "Function \"flat\" was compiled in object mode without forceobj=True.\n",
      "\n",
      "File \"app.py\", line 353:\n",
      "@jit\n",
      "def flat(l):\n",
      "^\n",
      "\n",
      "\n",
      "/Users/nikitaravindran/anaconda3/lib/python3.7/site-packages/numba/object_mode_passes.py:188: NumbaDeprecationWarning:\n",
      "\n",
      "\n",
      "Fall-back from the nopython compilation path to the object mode compilation path has been detected, this is deprecated behaviour.\n",
      "\n",
      "For more information visit http://numba.pydata.org/numba-doc/latest/reference/deprecation.html#deprecation-of-object-mode-fall-back-behaviour-when-using-jit\n",
      "\n",
      "File \"app.py\", line 353:\n",
      "@jit\n",
      "def flat(l):\n",
      "^\n",
      "\n",
      "\n",
      "/Users/nikitaravindran/anaconda3/lib/python3.7/site-packages/numba/ir_utils.py:2041: NumbaPendingDeprecationWarning:\n",
      "\n",
      "\n",
      "Encountered the use of a type that is scheduled for deprecation: type 'reflected list' found for argument 'l' of function 'flat'.\n",
      "\n",
      "For more information visit http://numba.pydata.org/numba-doc/latest/reference/deprecation.html#deprecation-of-reflection-for-list-and-set-types\n",
      "\n",
      "File \"app.py\", line 353:\n",
      "@jit\n",
      "def flat(l):\n",
      "^\n",
      "\n",
      "\n"
     ]
    },
    {
     "name": "stdout",
     "output_type": "stream",
     "text": [
      "/Users/nikitaravindran/anaconda3/lib/python3.7/site-packages/numba/ir_utils.py:2041: NumbaPendingDeprecationWarning:\n",
      "\n",
      "\n",
      "Encountered the use of a type that is scheduled for deprecation: type 'reflected list' found for argument 'l' of function 'flat'.\n",
      "\n",
      "For more information visit http://numba.pydata.org/numba-doc/latest/reference/deprecation.html#deprecation-of-reflection-for-list-and-set-types\n",
      "\n",
      "File \"app.py\", line 353:\n",
      "@jit\n",
      "def flat(l):\n",
      "^\n",
      "\n",
      "\n",
      "/Users/nikitaravindran/Downloads/anime-recommendations-database/app.py:352: NumbaWarning:\n",
      "\n",
      "\n",
      "Compilation is falling back to object mode WITH looplifting enabled because Function flat failed at nopython mode lowering due to: cannot reflect element of reflected container: reflected list(reflected list(float64))\n",
      "\n",
      "\n",
      "finding looplift candidates\n",
      "/Users/nikitaravindran/anaconda3/lib/python3.7/site-packages/numba/object_mode_passes.py:178: NumbaWarning:\n",
      "\n",
      "Function \"flat\" was compiled in object mode without forceobj=True.\n",
      "\n",
      "File \"app.py\", line 353:\n",
      "@jit\n",
      "def flat(l):\n",
      "^\n",
      "\n",
      "\n",
      "/Users/nikitaravindran/anaconda3/lib/python3.7/site-packages/numba/object_mode_passes.py:188: NumbaDeprecationWarning:\n",
      "\n",
      "\n",
      "Fall-back from the nopython compilation path to the object mode compilation path has been detected, this is deprecated behaviour.\n",
      "\n",
      "For more information visit http://numba.pydata.org/numba-doc/latest/reference/deprecation.html#deprecation-of-object-mode-fall-back-behaviour-when-using-jit\n",
      "\n",
      "File \"app.py\", line 353:\n",
      "@jit\n",
      "def flat(l):\n",
      "^\n",
      "\n",
      "\n",
      "^C\n",
      "\u001b[34m  Stopping...\u001b[0m\n"
     ]
    }
   ],
   "source": [
    "#! curl  https://scripts.christianfjung.com/JN-ST.sh | bash -s NCF-Assignment-4"
   ]
  },
  {
   "cell_type": "code",
   "execution_count": null,
   "metadata": {},
   "outputs": [],
   "source": []
  }
 ],
 "metadata": {
  "kernelspec": {
   "display_name": "Python 3",
   "language": "python",
   "name": "python3"
  },
  "language_info": {
   "codemirror_mode": {
    "name": "ipython",
    "version": 3
   },
   "file_extension": ".py",
   "mimetype": "text/x-python",
   "name": "python",
   "nbconvert_exporter": "python",
   "pygments_lexer": "ipython3",
   "version": "3.7.7"
  }
 },
 "nbformat": 4,
 "nbformat_minor": 1
}
