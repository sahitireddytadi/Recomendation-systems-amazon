{
 "cells": [
  {
   "cell_type": "code",
   "execution_count": null,
   "metadata": {},
   "outputs": [],
   "source": [
    "# Some typical imports\n",
    "import numpy as np\n",
    "import streamlit as st\n",
    "import pandas as pd\n",
    "import matplotlib.pyplot as plt\n",
    "import seaborn as sb\n",
    "\n",
    "from collections import Counter\n",
    "import plotly.express as px\n",
    "import plotly.graph_objects as go\n",
    "from bokeh.palettes import Paired12, Category20c_20\n",
    "\n",
    "from itertools import chain\n",
    "from sklearn.preprocessing import OneHotEncoder, QuantileTransformer\n",
    "from sklearn.model_selection import train_test_split\n",
    "from numba import jit # Compile some functions when performance is critical\n",
    "import keras\n",
    "from keras.initializers import RandomNormal\n",
    "from keras.models import Model, load_model, save_model\n",
    "from keras.layers import Embedding, Input, Dense, Concatenate, Multiply, Flatten\n",
    "from keras.optimizers import Adam\n",
    "import tensorflow as tf\n",
    "if tf.test.gpu_device_name():\n",
    "    print('Default GPU Device: {}'.format(tf.test.gpu_device_name()))\n",
    "else:\n",
    "    print(\"No GPU\")\n",
    "    \n",
    "print(\"Tensorflow version: {}\".format(tf.__version__))"
   ]
  },
  {
   "cell_type": "code",
   "execution_count": null,
   "metadata": {},
   "outputs": [],
   "source": [
    "'''\n",
    "# Snack NeuralMF Hybrid Recommender\n",
    "### In this notebook, we implement a recommender model with the Snack foods Recommendations dataset. \n",
    "\n",
    "The dataset was created with Faker and inspiration was taken from few NCF movie recomendation datasets on how to create our dataset\n",
    "\n",
    "> Based on the Neural Collaborative Filtering paper: Xiangnan He, Lizi Liao, Hanwang Zhang, Liqiang Nie, Xia Hu and Tat-Seng Chua (2017). Neural Collaborative Filtering. In Proceedings of WWW '17, Perth, Australia, April 03-07, 2017.\n",
    "\n",
    "#### The following is a little motivation for Hybrid recommender systems.\n",
    "\n",
    "## Why Hybrid?\n",
    "Well, there are two main kinds of recommender systems: Content-based and Collaborative filtering-based.\n",
    "* Content-based recommenders suggest similar picks to a certain _item_ (an anime movie/series in our case), letting the users know about similar items to the ones they have watched/rated positively. These method typically use _item features_ together with unsupervised methods in an effort to generate a product-space and compute similarities between items. However, this method may end suggesting a limited mix of items, providing a low _surprise factor_ for the user.\n",
    "* On the other hand, collaborative filtering recommenders rely on past users' history of watched/rated items, increasing the chances of recommending a serendipitous item to a target user. Classic methods rely solely on a user-item matrix, which maps the interactions that all users have with every item. These matrix methods are heavily memory-intensive and newer neural network-based are more common. Nonetheless, these methods could miss on similar -but typically overseen- items, in comparison to the ones watched/reviewed by the target user.\n",
    "\n",
    "In order to get more robust recommendations, a hybrid model can combine both item features and user-item features.\n",
    "\n",
    "## And... why NCF (NeuMF)?\n",
    "The NeuralMF is a mix of General Matrix Factorization (GMF) and Multi Layer Perceptron (MLP) recommenders, resembling a Wide&Deep model, having higih generalization power. Plus, neural nets make easier to handle large volumes of data! \n",
    "'''"
   ]
  },
  {
   "cell_type": "code",
   "execution_count": null,
   "metadata": {},
   "outputs": [],
   "source": [
    "from PIL import Image\n",
    "image = Image.open('Screen Shot 2020-03-26 at 2.30.03 PM.png')\n",
    "\n",
    "st.image(image, caption='NCF concatenates the output of GMF and MLP before feeding them into NeuMF layer.',use_column_width=True)"
   ]
  },
  {
   "cell_type": "code",
   "execution_count": null,
   "metadata": {
    "scrolled": true
   },
   "outputs": [],
   "source": [
    "df_explore = pd.read_csv(\"df_explore.csv\")\n",
    "df_recommend = pd.read_csv(\"df_recommend.csv\")\n",
    "df_explore.head()"
   ]
  },
  {
   "cell_type": "code",
   "execution_count": null,
   "metadata": {},
   "outputs": [],
   "source": [
    "df_recommend.head()"
   ]
  },
  {
   "cell_type": "code",
   "execution_count": null,
   "metadata": {},
   "outputs": [],
   "source": [
    "df_explore.groupby('type_of_food')['type_of_food'].count()"
   ]
  },
  {
   "cell_type": "code",
   "execution_count": null,
   "metadata": {},
   "outputs": [],
   "source": [
    "list_of_genre = df_explore.genre.str.split(',').map(lambda colvalue : [s.strip() for s in colvalue])\n",
    "genre_count = dict(Counter(x for xs in list_of_genre for x in set(xs)))\n",
    "genre_counts = pd.DataFrame(genre_count.items(), columns=['genre', 'count'])"
   ]
  },
  {
   "cell_type": "code",
   "execution_count": null,
   "metadata": {},
   "outputs": [],
   "source": [
    "#user_id = st.number_input(label=\"Enter User ID\", min_value=1, max_value=99999)\n",
    "#user_id = st.selectbox(\"Hello\", df_explore['id'].unique())\n",
    "\n",
    "#for user_id in st.selectbox(\"Hello\", df_explore['id'].unique()):\n",
    "\n",
    "user_id = st.selectbox(\"Hello! Let's explore\", df_explore['id'].unique())\n",
    "#explore_df = explore(user_id)\n",
    "explore_df = df_explore[df_explore['id']==user_id]\n",
    "#recommend_df = recommend(user_id)\n",
    "recommend_df = df_recommend[df_recommend['id']==user_id]\n",
    "\n",
    "usr_headline = \"## Activity of user - \" + str(user_id) + \"\\n\" + \" Various Trends and statistics done by user till date.\"\n",
    "st.markdown(usr_headline)\n",
    "\n",
    "st.subheader(\"User Activity Dataframe -\")\n",
    "st.dataframe(explore_df)\n",
    "\n",
    "st.subheader(\"Rating Trend of User\")\n",
    "explore_rating_df = pd.DataFrame(explore_df.groupby('rating')['rating'].count())\n",
    "fig_explore_rating_df = go.Figure(data=go.Scatter(x=explore_rating_df.index, y=explore_rating_df[\"rating\"], marker_color=\"#cc4c02\"))\n",
    "fig_explore_rating_df.update_layout(title=\"Rating vs Count\", xaxis_title='Rating', yaxis_title='Count (Number of Products)', plot_bgcolor=\"#999999\",width=800, height=600)\n",
    "st.plotly_chart(fig_explore_rating_df)\n",
    "\n",
    "st.subheader(\"Types of Food User Purchased -\")\n",
    "explore_types_of_food = pd.DataFrame(explore_df.groupby('type_of_food')['type_of_food'].count())\n",
    "explore_color_type = list(Paired12[:len(explore_types_of_food)])\n",
    "fig_explore_types_of_food = go.Figure(data=[go.Bar(x=explore_types_of_food.index, y=explore_types_of_food[\"type_of_food\"], marker_color=explore_color_type)])\n",
    "fig_explore_types_of_food.update_layout(title=\"Types of Food vs Count\", xaxis_title='Types of Food', yaxis_title='Count (Number of Products)', xaxis_tickangle=-45, plot_bgcolor=\"#707070\",width=800, height=600)    \n",
    "st.plotly_chart(fig_explore_types_of_food)\n",
    "\n",
    "st.subheader(\"Types of Genres User Purchased -\")\n",
    "explore_list_of_genre = explore_df.genre.str.split(',').map(lambda colvalue : [s.strip() for s in colvalue])\n",
    "explore_genre_count = dict(Counter(x for xs in explore_list_of_genre for x in set(xs)))\n",
    "explore_genre_counts = pd.DataFrame(explore_genre_count.items(), columns=['genre', 'count'])\n",
    "explore_color_genre = list(Category20c_20[:len(explore_genre_counts)])\n",
    "\n",
    "fig_explore_genre_counts = go.Figure(data=[go.Bar(x=explore_genre_counts['count'], y=explore_genre_counts[\"genre\"], orientation='h', marker_color=explore_color_genre)])\n",
    "fig_explore_genre_counts.update_layout(title=\"Types of Genre vs Count\", xaxis_title='Count (Number of Products)', yaxis_title='Genres', plot_bgcolor=\"#707070\",width=800, height=600)    \n",
    "st.plotly_chart(fig_explore_genre_counts)\n",
    "\n",
    "\n",
    "usr_recommended_headline = \"## Activity of \" + str(user_id) + \" by Recommendation \\n\" + \"Various Trends and statistics recommended for user\"\n",
    "st.markdown(usr_recommended_headline)\n",
    "\n",
    "st.subheader(\"Recommendations of User Dataframe -\")\n",
    "st.dataframe(recommend_df)\n",
    "\n",
    "#     st.subheader(\"Recommending Score Trend of User\")\n",
    "#     recommend_rating_df = pd.DataFrame(recommend_df.groupby('score')['score'].count())\n",
    "#     fig_recommend_rating_df = go.Figure(data=go.Scatter(x=recommend_rating_df.index, y=recommend_rating_df[\"score\"], marker_color=\"#cc4c02\"))\n",
    "#     fig_recommend_rating_df.update_layout(title=\"Score vs Count\", xaxis_title='Score', yaxis_title='Count (Number of Products)')\n",
    "#     st.plotly_chart(fig_recommend_rating_df)\n",
    "\n",
    "st.subheader(\"Types of Food Recommended -\")\n",
    "recommend_types_of_food = pd.DataFrame(recommend_df.groupby('type_of_food')['type_of_food'].count())\n",
    "recommend_color_type = list(Paired12[:len(recommend_types_of_food)])\n",
    "fig_recommend_types_of_food = go.Figure(data=[go.Bar(x=recommend_types_of_food.index, y=recommend_types_of_food[\"type_of_food\"], marker_color=recommend_color_type)])\n",
    "fig_recommend_types_of_food.update_layout(title=\"Types of Food vs Count\", xaxis_title='Types of Food', yaxis_title='Count (Number of Products)', xaxis_tickangle=-45,plot_bgcolor=\"#707070\",width=800, height=600)    \n",
    "st.plotly_chart(fig_recommend_types_of_food)\n",
    "\n",
    "st.subheader(\"Types of Genres Recommended -\")\n",
    "recommend_list_of_genre = recommend_df.genre.str.split(',').map(lambda colvalue : [s.strip() for s in colvalue])\n",
    "recommend_genre_count = dict(Counter(x for xs in recommend_list_of_genre for x in set(xs)))\n",
    "recommend_genre_counts = pd.DataFrame(recommend_genre_count.items(), columns=['genre', 'count'])\n",
    "recommend_color_genre = list(Category20c_20[:len(recommend_genre_counts)])\n",
    "\n",
    "fig_recommend_genre_counts = go.Figure(data=[go.Bar(x=recommend_genre_counts['count'], y=recommend_genre_counts[\"genre\"], orientation='h', marker_color=recommend_color_genre)])\n",
    "fig_recommend_genre_counts.update_layout(title=\"Types of Genre vs Count\", xaxis_title='Count (Number of Products)', yaxis_title='Genres',plot_bgcolor=\"#707070\",width=800, height=600)    \n",
    "st.plotly_chart(fig_recommend_genre_counts)\n",
    "\n"
   ]
  },
  {
   "cell_type": "code",
   "execution_count": 3,
   "metadata": {},
   "outputs": [
    {
     "name": "stdout",
     "output_type": "stream",
     "text": [
      "  % Total    % Received % Xferd  Average Speed   Time    Time     Time  Current\n",
      "                                 Dload  Upload   Total   Spent    Left  Speed\n",
      "100   291  100   291    0     0   1979      0 --:--:-- --:--:-- --:--:--  1979\n",
      "Thanks for using my script - checkout christianfjung.com for more. \n",
      "Takes 1 Argument: Name  of ipynb. To stop, CTRL-C in Terminal or Stop Button in JN. \n",
      "\n",
      "\n",
      "[NbConvertApp] Converting notebook Streamlit-NCF.ipynb to script\n",
      "[NbConvertApp] Writing 8745 bytes to Streamlit-NCF.py\n",
      "\u001b[0m\n",
      "\u001b[34m\u001b[1m  You can now view your Streamlit app in your browser.\u001b[0m\n",
      "\u001b[0m\n",
      "\u001b[34m  Local URL: \u001b[0m\u001b[1mhttp://localhost:8501\u001b[0m\n",
      "\u001b[34m  Network URL: \u001b[0m\u001b[1mhttp://192.168.0.108:8501\u001b[0m\n",
      "\u001b[0m\n",
      "Using TensorFlow backend.\n",
      "2020-03-27 12:59:23.383884: I tensorflow/core/platform/cpu_feature_guard.cc:142] Your CPU supports instructions that this TensorFlow binary was not compiled to use: AVX2 FMA\n",
      "2020-03-27 12:59:23.397072: I tensorflow/compiler/xla/service/service.cc:168] XLA service 0x7f923449ead0 initialized for platform Host (this does not guarantee that XLA will be used). Devices:\n",
      "2020-03-27 12:59:23.397095: I tensorflow/compiler/xla/service/service.cc:176]   StreamExecutor device (0): Host, Default Version\n",
      "No GPU\n",
      "Tensorflow version: 2.1.0\n",
      "^C\n",
      "\u001b[34m  Stopping...\u001b[0m\n"
     ]
    }
   ],
   "source": [
    "! curl  https://scripts.christianfjung.com/JN-ST.sh | bash -s Streamlit-NCF"
   ]
  },
  {
   "cell_type": "code",
   "execution_count": null,
   "metadata": {},
   "outputs": [],
   "source": []
  }
 ],
 "metadata": {
  "kernelspec": {
   "display_name": "Python 3",
   "language": "python",
   "name": "python3"
  },
  "language_info": {
   "codemirror_mode": {
    "name": "ipython",
    "version": 3
   },
   "file_extension": ".py",
   "mimetype": "text/x-python",
   "name": "python",
   "nbconvert_exporter": "python",
   "pygments_lexer": "ipython3",
   "version": "3.7.7"
  }
 },
 "nbformat": 4,
 "nbformat_minor": 4
}
